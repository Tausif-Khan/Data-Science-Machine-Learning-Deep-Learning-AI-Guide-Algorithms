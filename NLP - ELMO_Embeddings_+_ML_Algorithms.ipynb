{
  "nbformat": 4,
  "nbformat_minor": 0,
  "metadata": {
    "colab": {
      "name": "ELMO Embeddings + ML Algorithms",
      "provenance": [],
      "collapsed_sections": [
        "xZlLu3yDfvH6",
        "MjwXJp3CfyHq",
        "UJM2iNd3gWRw"
      ],
      "include_colab_link": true
    },
    "kernelspec": {
      "name": "python3",
      "display_name": "Python 3"
    },
    "accelerator": "TPU"
  },
  "cells": [
    {
      "cell_type": "markdown",
      "metadata": {
        "id": "view-in-github",
        "colab_type": "text"
      },
      "source": [
        "<a href=\"https://colab.research.google.com/github/myrondza/Data-Science-Machine-Learning-Deep-Learning-AI-Guide-Algorithms/blob/master/NLP%20-%20ELMO_Embeddings_%2B_ML_Algorithms.ipynb\" target=\"_parent\"><img src=\"https://colab.research.google.com/assets/colab-badge.svg\" alt=\"Open In Colab\"/></a>"
      ]
    },
    {
      "cell_type": "code",
      "metadata": {
        "id": "boz4ss1GWQMc",
        "colab_type": "code",
        "colab": {}
      },
      "source": [
        "import pandas as pd\n",
        "df = pd.read_csv(\"Amazon_Feedback.csv\")"
      ],
      "execution_count": 0,
      "outputs": []
    },
    {
      "cell_type": "code",
      "metadata": {
        "id": "xs2naSMDXXDi",
        "colab_type": "code",
        "outputId": "fa427c15-3b86-4387-9cb5-e3d7025d7782",
        "colab": {
          "base_uri": "https://localhost:8080/",
          "height": 34
        }
      },
      "source": [
        "df.head(5)\n",
        "df.shape"
      ],
      "execution_count": 0,
      "outputs": [
        {
          "output_type": "execute_result",
          "data": {
            "text/plain": [
              "(2624, 2)"
            ]
          },
          "metadata": {
            "tags": []
          },
          "execution_count": 2
        }
      ]
    },
    {
      "cell_type": "code",
      "metadata": {
        "id": "YS138nAKXZYl",
        "colab_type": "code",
        "outputId": "e1b061a0-8c6f-49ef-d8b8-0550e8acab61",
        "colab": {
          "base_uri": "https://localhost:8080/",
          "height": 204
        }
      },
      "source": [
        "df.head(5)"
      ],
      "execution_count": 0,
      "outputs": [
        {
          "output_type": "execute_result",
          "data": {
            "text/html": [
              "<div>\n",
              "<style scoped>\n",
              "    .dataframe tbody tr th:only-of-type {\n",
              "        vertical-align: middle;\n",
              "    }\n",
              "\n",
              "    .dataframe tbody tr th {\n",
              "        vertical-align: top;\n",
              "    }\n",
              "\n",
              "    .dataframe thead th {\n",
              "        text-align: right;\n",
              "    }\n",
              "</style>\n",
              "<table border=\"1\" class=\"dataframe\">\n",
              "  <thead>\n",
              "    <tr style=\"text-align: right;\">\n",
              "      <th></th>\n",
              "      <th>Translated</th>\n",
              "      <th>Categorisation</th>\n",
              "    </tr>\n",
              "  </thead>\n",
              "  <tbody>\n",
              "    <tr>\n",
              "      <th>0</th>\n",
              "      <td>So there is no way for me to plug it in here i...</td>\n",
              "      <td>0</td>\n",
              "    </tr>\n",
              "    <tr>\n",
              "      <th>1</th>\n",
              "      <td>Good case, Excellent value.</td>\n",
              "      <td>1</td>\n",
              "    </tr>\n",
              "    <tr>\n",
              "      <th>2</th>\n",
              "      <td>Great for the jawbone.</td>\n",
              "      <td>1</td>\n",
              "    </tr>\n",
              "    <tr>\n",
              "      <th>3</th>\n",
              "      <td>Tied to charger for conversations lasting more...</td>\n",
              "      <td>0</td>\n",
              "    </tr>\n",
              "    <tr>\n",
              "      <th>4</th>\n",
              "      <td>The mic is great.</td>\n",
              "      <td>1</td>\n",
              "    </tr>\n",
              "  </tbody>\n",
              "</table>\n",
              "</div>"
            ],
            "text/plain": [
              "                                          Translated  Categorisation\n",
              "0  So there is no way for me to plug it in here i...               0\n",
              "1                        Good case, Excellent value.               1\n",
              "2                             Great for the jawbone.               1\n",
              "3  Tied to charger for conversations lasting more...               0\n",
              "4                                  The mic is great.               1"
            ]
          },
          "metadata": {
            "tags": []
          },
          "execution_count": 3
        }
      ]
    },
    {
      "cell_type": "code",
      "metadata": {
        "id": "dBUuWbQnXbmW",
        "colab_type": "code",
        "outputId": "3dde8d22-4f78-4e97-870c-937bb9ccc4d0",
        "colab": {
          "base_uri": "https://localhost:8080/",
          "height": 68
        }
      },
      "source": [
        "df[\"Categorisation\"].value_counts()"
      ],
      "execution_count": 0,
      "outputs": [
        {
          "output_type": "execute_result",
          "data": {
            "text/plain": [
              "1    1312\n",
              "0    1312\n",
              "Name: Categorisation, dtype: int64"
            ]
          },
          "metadata": {
            "tags": []
          },
          "execution_count": 4
        }
      ]
    },
    {
      "cell_type": "code",
      "metadata": {
        "id": "-hiL_KN6Xh_2",
        "colab_type": "code",
        "colab": {}
      },
      "source": [
        "\n",
        "from sklearn.model_selection import train_test_split\n",
        "train, test = train_test_split(df, test_size=0.3)"
      ],
      "execution_count": 0,
      "outputs": []
    },
    {
      "cell_type": "code",
      "metadata": {
        "id": "8lMQ1VyKXnDl",
        "colab_type": "code",
        "outputId": "a7e41f92-57f1-4ef1-9447-303e8126ca90",
        "colab": {
          "base_uri": "https://localhost:8080/",
          "height": 34
        }
      },
      "source": [
        "train.shape"
      ],
      "execution_count": 0,
      "outputs": [
        {
          "output_type": "execute_result",
          "data": {
            "text/plain": [
              "(1836, 2)"
            ]
          },
          "metadata": {
            "tags": []
          },
          "execution_count": 6
        }
      ]
    },
    {
      "cell_type": "code",
      "metadata": {
        "id": "i98hvAHVXpFm",
        "colab_type": "code",
        "outputId": "1f99a35d-3e12-4859-901b-fe641921d2bd",
        "colab": {
          "base_uri": "https://localhost:8080/",
          "height": 34
        }
      },
      "source": [
        "test.shape"
      ],
      "execution_count": 0,
      "outputs": [
        {
          "output_type": "execute_result",
          "data": {
            "text/plain": [
              "(788, 2)"
            ]
          },
          "metadata": {
            "tags": []
          },
          "execution_count": 7
        }
      ]
    },
    {
      "cell_type": "code",
      "metadata": {
        "id": "_GBInI9KXqJp",
        "colab_type": "code",
        "outputId": "6d94630b-f300-44d3-bbf9-cf9867cbc9cf",
        "colab": {
          "base_uri": "https://localhost:8080/",
          "height": 204
        }
      },
      "source": [
        "train.head(5)"
      ],
      "execution_count": 0,
      "outputs": [
        {
          "output_type": "execute_result",
          "data": {
            "text/html": [
              "<div>\n",
              "<style scoped>\n",
              "    .dataframe tbody tr th:only-of-type {\n",
              "        vertical-align: middle;\n",
              "    }\n",
              "\n",
              "    .dataframe tbody tr th {\n",
              "        vertical-align: top;\n",
              "    }\n",
              "\n",
              "    .dataframe thead th {\n",
              "        text-align: right;\n",
              "    }\n",
              "</style>\n",
              "<table border=\"1\" class=\"dataframe\">\n",
              "  <thead>\n",
              "    <tr style=\"text-align: right;\">\n",
              "      <th></th>\n",
              "      <th>Translated</th>\n",
              "      <th>Categorisation</th>\n",
              "    </tr>\n",
              "  </thead>\n",
              "  <tbody>\n",
              "    <tr>\n",
              "      <th>1692</th>\n",
              "      <td>If you own a tablet or smartphone, you already...</td>\n",
              "      <td>0</td>\n",
              "    </tr>\n",
              "    <tr>\n",
              "      <th>2140</th>\n",
              "      <td>This is my second Fire, I'm upgrading from the...</td>\n",
              "      <td>1</td>\n",
              "    </tr>\n",
              "    <tr>\n",
              "      <th>2095</th>\n",
              "      <td>Ipad killer! A fierce tablet at a convinient p...</td>\n",
              "      <td>1</td>\n",
              "    </tr>\n",
              "    <tr>\n",
              "      <th>1949</th>\n",
              "      <td>Amazon Fire HD8 is a great product for the pri...</td>\n",
              "      <td>1</td>\n",
              "    </tr>\n",
              "    <tr>\n",
              "      <th>973</th>\n",
              "      <td>Lousy product.</td>\n",
              "      <td>0</td>\n",
              "    </tr>\n",
              "  </tbody>\n",
              "</table>\n",
              "</div>"
            ],
            "text/plain": [
              "                                             Translated  Categorisation\n",
              "1692  If you own a tablet or smartphone, you already...               0\n",
              "2140  This is my second Fire, I'm upgrading from the...               1\n",
              "2095  Ipad killer! A fierce tablet at a convinient p...               1\n",
              "1949  Amazon Fire HD8 is a great product for the pri...               1\n",
              "973                                      Lousy product.               0"
            ]
          },
          "metadata": {
            "tags": []
          },
          "execution_count": 8
        }
      ]
    },
    {
      "cell_type": "code",
      "metadata": {
        "id": "Q9IvtMsUXtBX",
        "colab_type": "code",
        "outputId": "946c702d-f652-42f6-c1c9-80cc4ad8b10e",
        "colab": {
          "base_uri": "https://localhost:8080/",
          "height": 204
        }
      },
      "source": [
        "test.head(5)"
      ],
      "execution_count": 0,
      "outputs": [
        {
          "output_type": "execute_result",
          "data": {
            "text/html": [
              "<div>\n",
              "<style scoped>\n",
              "    .dataframe tbody tr th:only-of-type {\n",
              "        vertical-align: middle;\n",
              "    }\n",
              "\n",
              "    .dataframe tbody tr th {\n",
              "        vertical-align: top;\n",
              "    }\n",
              "\n",
              "    .dataframe thead th {\n",
              "        text-align: right;\n",
              "    }\n",
              "</style>\n",
              "<table border=\"1\" class=\"dataframe\">\n",
              "  <thead>\n",
              "    <tr style=\"text-align: right;\">\n",
              "      <th></th>\n",
              "      <th>Translated</th>\n",
              "      <th>Categorisation</th>\n",
              "    </tr>\n",
              "  </thead>\n",
              "  <tbody>\n",
              "    <tr>\n",
              "      <th>217</th>\n",
              "      <td>I also didn't like the \"on\" button, it felt li...</td>\n",
              "      <td>0</td>\n",
              "    </tr>\n",
              "    <tr>\n",
              "      <th>1527</th>\n",
              "      <td>Not a big reader but gave it to someone that i...</td>\n",
              "      <td>0</td>\n",
              "    </tr>\n",
              "    <tr>\n",
              "      <th>2015</th>\n",
              "      <td>Santa dropped this off for our 4th grader alon...</td>\n",
              "      <td>1</td>\n",
              "    </tr>\n",
              "    <tr>\n",
              "      <th>112</th>\n",
              "      <td>its a little geeky but i think thats its sex o...</td>\n",
              "      <td>1</td>\n",
              "    </tr>\n",
              "    <tr>\n",
              "      <th>1542</th>\n",
              "      <td>While reading might be a bit easier on the Pap...</td>\n",
              "      <td>0</td>\n",
              "    </tr>\n",
              "  </tbody>\n",
              "</table>\n",
              "</div>"
            ],
            "text/plain": [
              "                                             Translated  Categorisation\n",
              "217   I also didn't like the \"on\" button, it felt li...               0\n",
              "1527  Not a big reader but gave it to someone that i...               0\n",
              "2015  Santa dropped this off for our 4th grader alon...               1\n",
              "112   its a little geeky but i think thats its sex o...               1\n",
              "1542  While reading might be a bit easier on the Pap...               0"
            ]
          },
          "metadata": {
            "tags": []
          },
          "execution_count": 9
        }
      ]
    },
    {
      "cell_type": "code",
      "metadata": {
        "id": "XNrqhOp2XuK1",
        "colab_type": "code",
        "outputId": "82941866-d5b8-4984-cc1f-fe35236482de",
        "colab": {
          "base_uri": "https://localhost:8080/",
          "height": 139
        }
      },
      "source": [
        "train.Translated = train.Translated.astype(str)\n",
        "test.Translated = test.Translated.astype(str)"
      ],
      "execution_count": 0,
      "outputs": [
        {
          "output_type": "stream",
          "text": [
            "/usr/local/lib/python3.6/dist-packages/pandas/core/generic.py:5208: SettingWithCopyWarning: \n",
            "A value is trying to be set on a copy of a slice from a DataFrame.\n",
            "Try using .loc[row_indexer,col_indexer] = value instead\n",
            "\n",
            "See the caveats in the documentation: http://pandas.pydata.org/pandas-docs/stable/user_guide/indexing.html#returning-a-view-versus-a-copy\n",
            "  self[name] = value\n"
          ],
          "name": "stderr"
        }
      ]
    },
    {
      "cell_type": "code",
      "metadata": {
        "id": "w4swUgsBX1T_",
        "colab_type": "code",
        "colab": {}
      },
      "source": [
        "list_train = [train[i:i+100] for i in range(0,train.shape[0],100)]\n",
        "list_test = [test[i:i+100] for i in range(0,test.shape[0],100)]"
      ],
      "execution_count": 0,
      "outputs": []
    },
    {
      "cell_type": "code",
      "metadata": {
        "id": "ba4M6cSTawsc",
        "colab_type": "code",
        "colab": {}
      },
      "source": [
        "import tensorflow as tf\n",
        "import tensorflow_hub as hub\n",
        "\n",
        "elmo = hub.Module(\"https://tfhub.dev/google/elmo/3\", trainable=True)"
      ],
      "execution_count": 0,
      "outputs": []
    },
    {
      "cell_type": "code",
      "metadata": {
        "id": "yKWbV8ZiYAbW",
        "colab_type": "code",
        "colab": {}
      },
      "source": [
        "def elmo_vectors(x):\n",
        "    embeddings = elmo(x.tolist(), signature=\"default\", as_dict=True)[\"elmo\"]\n",
        "\n",
        "    with tf.Session().as_default() as sess:\n",
        "        sess.run(tf.global_variables_initializer())\n",
        "        sess.run(tf.tables_initializer())\n",
        "    return sess.run(tf.reduce_mean(embeddings,1))"
      ],
      "execution_count": 0,
      "outputs": []
    },
    {
      "cell_type": "code",
      "metadata": {
        "id": "YSoJzEDteEBN",
        "colab_type": "code",
        "outputId": "b78c32bb-1de0-4e64-cc45-75c55dab5e6f",
        "colab": {
          "base_uri": "https://localhost:8080/",
          "height": 935
        }
      },
      "source": [
        "elmo_train = [elmo_vectors(x['Translated']) for x in list_train]\n",
        "elmo_test = [elmo_vectors(x['Translated']) for x in list_test]"
      ],
      "execution_count": 0,
      "outputs": [
        {
          "output_type": "stream",
          "text": [
            "INFO:tensorflow:Saver not created because there are no variables in the graph to restore\n"
          ],
          "name": "stdout"
        },
        {
          "output_type": "stream",
          "text": [
            "INFO:tensorflow:Saver not created because there are no variables in the graph to restore\n"
          ],
          "name": "stderr"
        },
        {
          "output_type": "stream",
          "text": [
            "INFO:tensorflow:Saver not created because there are no variables in the graph to restore\n"
          ],
          "name": "stdout"
        },
        {
          "output_type": "stream",
          "text": [
            "INFO:tensorflow:Saver not created because there are no variables in the graph to restore\n"
          ],
          "name": "stderr"
        },
        {
          "output_type": "stream",
          "text": [
            "INFO:tensorflow:Saver not created because there are no variables in the graph to restore\n"
          ],
          "name": "stdout"
        },
        {
          "output_type": "stream",
          "text": [
            "INFO:tensorflow:Saver not created because there are no variables in the graph to restore\n"
          ],
          "name": "stderr"
        },
        {
          "output_type": "stream",
          "text": [
            "INFO:tensorflow:Saver not created because there are no variables in the graph to restore\n"
          ],
          "name": "stdout"
        },
        {
          "output_type": "stream",
          "text": [
            "INFO:tensorflow:Saver not created because there are no variables in the graph to restore\n"
          ],
          "name": "stderr"
        },
        {
          "output_type": "stream",
          "text": [
            "INFO:tensorflow:Saver not created because there are no variables in the graph to restore\n"
          ],
          "name": "stdout"
        },
        {
          "output_type": "stream",
          "text": [
            "INFO:tensorflow:Saver not created because there are no variables in the graph to restore\n"
          ],
          "name": "stderr"
        },
        {
          "output_type": "stream",
          "text": [
            "INFO:tensorflow:Saver not created because there are no variables in the graph to restore\n"
          ],
          "name": "stdout"
        },
        {
          "output_type": "stream",
          "text": [
            "INFO:tensorflow:Saver not created because there are no variables in the graph to restore\n"
          ],
          "name": "stderr"
        },
        {
          "output_type": "stream",
          "text": [
            "INFO:tensorflow:Saver not created because there are no variables in the graph to restore\n"
          ],
          "name": "stdout"
        },
        {
          "output_type": "stream",
          "text": [
            "INFO:tensorflow:Saver not created because there are no variables in the graph to restore\n"
          ],
          "name": "stderr"
        },
        {
          "output_type": "stream",
          "text": [
            "INFO:tensorflow:Saver not created because there are no variables in the graph to restore\n"
          ],
          "name": "stdout"
        },
        {
          "output_type": "stream",
          "text": [
            "INFO:tensorflow:Saver not created because there are no variables in the graph to restore\n"
          ],
          "name": "stderr"
        },
        {
          "output_type": "stream",
          "text": [
            "INFO:tensorflow:Saver not created because there are no variables in the graph to restore\n"
          ],
          "name": "stdout"
        },
        {
          "output_type": "stream",
          "text": [
            "INFO:tensorflow:Saver not created because there are no variables in the graph to restore\n"
          ],
          "name": "stderr"
        },
        {
          "output_type": "stream",
          "text": [
            "INFO:tensorflow:Saver not created because there are no variables in the graph to restore\n"
          ],
          "name": "stdout"
        },
        {
          "output_type": "stream",
          "text": [
            "INFO:tensorflow:Saver not created because there are no variables in the graph to restore\n"
          ],
          "name": "stderr"
        },
        {
          "output_type": "stream",
          "text": [
            "INFO:tensorflow:Saver not created because there are no variables in the graph to restore\n"
          ],
          "name": "stdout"
        },
        {
          "output_type": "stream",
          "text": [
            "INFO:tensorflow:Saver not created because there are no variables in the graph to restore\n"
          ],
          "name": "stderr"
        },
        {
          "output_type": "stream",
          "text": [
            "INFO:tensorflow:Saver not created because there are no variables in the graph to restore\n"
          ],
          "name": "stdout"
        },
        {
          "output_type": "stream",
          "text": [
            "INFO:tensorflow:Saver not created because there are no variables in the graph to restore\n"
          ],
          "name": "stderr"
        },
        {
          "output_type": "stream",
          "text": [
            "INFO:tensorflow:Saver not created because there are no variables in the graph to restore\n"
          ],
          "name": "stdout"
        },
        {
          "output_type": "stream",
          "text": [
            "INFO:tensorflow:Saver not created because there are no variables in the graph to restore\n"
          ],
          "name": "stderr"
        },
        {
          "output_type": "stream",
          "text": [
            "INFO:tensorflow:Saver not created because there are no variables in the graph to restore\n"
          ],
          "name": "stdout"
        },
        {
          "output_type": "stream",
          "text": [
            "INFO:tensorflow:Saver not created because there are no variables in the graph to restore\n"
          ],
          "name": "stderr"
        },
        {
          "output_type": "stream",
          "text": [
            "INFO:tensorflow:Saver not created because there are no variables in the graph to restore\n"
          ],
          "name": "stdout"
        },
        {
          "output_type": "stream",
          "text": [
            "INFO:tensorflow:Saver not created because there are no variables in the graph to restore\n"
          ],
          "name": "stderr"
        },
        {
          "output_type": "stream",
          "text": [
            "INFO:tensorflow:Saver not created because there are no variables in the graph to restore\n"
          ],
          "name": "stdout"
        },
        {
          "output_type": "stream",
          "text": [
            "INFO:tensorflow:Saver not created because there are no variables in the graph to restore\n"
          ],
          "name": "stderr"
        },
        {
          "output_type": "stream",
          "text": [
            "INFO:tensorflow:Saver not created because there are no variables in the graph to restore\n"
          ],
          "name": "stdout"
        },
        {
          "output_type": "stream",
          "text": [
            "INFO:tensorflow:Saver not created because there are no variables in the graph to restore\n"
          ],
          "name": "stderr"
        },
        {
          "output_type": "stream",
          "text": [
            "INFO:tensorflow:Saver not created because there are no variables in the graph to restore\n"
          ],
          "name": "stdout"
        },
        {
          "output_type": "stream",
          "text": [
            "INFO:tensorflow:Saver not created because there are no variables in the graph to restore\n"
          ],
          "name": "stderr"
        },
        {
          "output_type": "stream",
          "text": [
            "INFO:tensorflow:Saver not created because there are no variables in the graph to restore\n"
          ],
          "name": "stdout"
        },
        {
          "output_type": "stream",
          "text": [
            "INFO:tensorflow:Saver not created because there are no variables in the graph to restore\n"
          ],
          "name": "stderr"
        },
        {
          "output_type": "stream",
          "text": [
            "INFO:tensorflow:Saver not created because there are no variables in the graph to restore\n"
          ],
          "name": "stdout"
        },
        {
          "output_type": "stream",
          "text": [
            "INFO:tensorflow:Saver not created because there are no variables in the graph to restore\n"
          ],
          "name": "stderr"
        },
        {
          "output_type": "stream",
          "text": [
            "INFO:tensorflow:Saver not created because there are no variables in the graph to restore\n"
          ],
          "name": "stdout"
        },
        {
          "output_type": "stream",
          "text": [
            "INFO:tensorflow:Saver not created because there are no variables in the graph to restore\n"
          ],
          "name": "stderr"
        },
        {
          "output_type": "stream",
          "text": [
            "INFO:tensorflow:Saver not created because there are no variables in the graph to restore\n"
          ],
          "name": "stdout"
        },
        {
          "output_type": "stream",
          "text": [
            "INFO:tensorflow:Saver not created because there are no variables in the graph to restore\n"
          ],
          "name": "stderr"
        },
        {
          "output_type": "stream",
          "text": [
            "INFO:tensorflow:Saver not created because there are no variables in the graph to restore\n"
          ],
          "name": "stdout"
        },
        {
          "output_type": "stream",
          "text": [
            "INFO:tensorflow:Saver not created because there are no variables in the graph to restore\n"
          ],
          "name": "stderr"
        },
        {
          "output_type": "stream",
          "text": [
            "INFO:tensorflow:Saver not created because there are no variables in the graph to restore\n"
          ],
          "name": "stdout"
        },
        {
          "output_type": "stream",
          "text": [
            "INFO:tensorflow:Saver not created because there are no variables in the graph to restore\n"
          ],
          "name": "stderr"
        },
        {
          "output_type": "stream",
          "text": [
            "INFO:tensorflow:Saver not created because there are no variables in the graph to restore\n"
          ],
          "name": "stdout"
        },
        {
          "output_type": "stream",
          "text": [
            "INFO:tensorflow:Saver not created because there are no variables in the graph to restore\n"
          ],
          "name": "stderr"
        },
        {
          "output_type": "stream",
          "text": [
            "INFO:tensorflow:Saver not created because there are no variables in the graph to restore\n"
          ],
          "name": "stdout"
        },
        {
          "output_type": "stream",
          "text": [
            "INFO:tensorflow:Saver not created because there are no variables in the graph to restore\n"
          ],
          "name": "stderr"
        },
        {
          "output_type": "stream",
          "text": [
            "INFO:tensorflow:Saver not created because there are no variables in the graph to restore\n"
          ],
          "name": "stdout"
        },
        {
          "output_type": "stream",
          "text": [
            "INFO:tensorflow:Saver not created because there are no variables in the graph to restore\n"
          ],
          "name": "stderr"
        }
      ]
    },
    {
      "cell_type": "code",
      "metadata": {
        "id": "mlknTjv3eQBN",
        "colab_type": "code",
        "outputId": "2056f92d-9667-4fe0-a96f-d4794e129d0c",
        "colab": {
          "base_uri": "https://localhost:8080/",
          "height": 1000
        }
      },
      "source": [
        "elmo_train"
      ],
      "execution_count": 0,
      "outputs": [
        {
          "output_type": "execute_result",
          "data": {
            "text/plain": [
              "[array([[-0.05590973,  0.01748744, -0.05656589, ..., -0.01962131,\n",
              "          0.06975626, -0.0069666 ],\n",
              "        [ 0.01957587, -0.05813252, -0.03042094, ...,  0.01160928,\n",
              "         -0.01087077,  0.08379146],\n",
              "        [-0.030004  , -0.0823576 ,  0.04411279, ...,  0.00565171,\n",
              "         -0.00604845, -0.00394651],\n",
              "        ...,\n",
              "        [-0.09619147, -0.05653161, -0.01758611, ..., -0.00935796,\n",
              "          0.07060647,  0.08163676],\n",
              "        [-0.04640515, -0.07699853,  0.04932263, ...,  0.02045876,\n",
              "         -0.03245857, -0.00746718],\n",
              "        [-0.12840311, -0.14131773,  0.04332799, ...,  0.00763464,\n",
              "          0.08652419,  0.02425455]], dtype=float32),\n",
              " array([[-0.00555685, -0.0401374 , -0.01454472, ..., -0.04617067,\n",
              "         -0.00321315,  0.02316854],\n",
              "        [-0.05348006, -0.02844589,  0.03264654, ...,  0.01343619,\n",
              "         -0.01785625,  0.01654674],\n",
              "        [-0.0356683 , -0.04258285,  0.04371063, ...,  0.01591638,\n",
              "         -0.0194643 , -0.02651281],\n",
              "        ...,\n",
              "        [-0.00915913, -0.02913946,  0.01539552, ...,  0.00568844,\n",
              "          0.00651532,  0.01809146],\n",
              "        [-0.06256723, -0.03202325,  0.03063736, ...,  0.02281306,\n",
              "         -0.05071215,  0.0128135 ],\n",
              "        [-0.01802447, -0.01386049,  0.01961143, ..., -0.00502286,\n",
              "         -0.00867581,  0.01283691]], dtype=float32),\n",
              " array([[-0.03544349, -0.00778919,  0.01717565, ...,  0.03650406,\n",
              "          0.01055796, -0.00581124],\n",
              "        [-0.03092301, -0.04694796,  0.04026777, ...,  0.01832416,\n",
              "         -0.01606956,  0.03952628],\n",
              "        [-0.01498375, -0.00346835,  0.01470929, ...,  0.01592156,\n",
              "         -0.02827143,  0.00052917],\n",
              "        ...,\n",
              "        [-0.04928275, -0.0294932 ,  0.0198695 , ...,  0.01808474,\n",
              "         -0.00340052, -0.00630128],\n",
              "        [-0.03884637,  0.00086115, -0.03011368, ..., -0.00246091,\n",
              "         -0.00789006,  0.04703083],\n",
              "        [-0.02948179, -0.04407494,  0.0449613 , ...,  0.01777319,\n",
              "         -0.00793515, -0.01585689]], dtype=float32),\n",
              " array([[-0.02956561, -0.06921846,  0.02159012, ...,  0.01317852,\n",
              "          0.00263221,  0.03525508],\n",
              "        [-0.02918478, -0.06036492,  0.02158153, ...,  0.01666306,\n",
              "         -0.0091896 , -0.01113708],\n",
              "        [-0.02371433, -0.06408535,  0.02287157, ...,  0.01803271,\n",
              "         -0.01015484,  0.01006094],\n",
              "        ...,\n",
              "        [-0.03592439, -0.0580196 ,  0.02237774, ...,  0.0200975 ,\n",
              "         -0.01285266, -0.00389347],\n",
              "        [-0.03735956, -0.03770158,  0.02777809, ...,  0.00142004,\n",
              "         -0.04731064, -0.00302553],\n",
              "        [-0.04220957, -0.08884549,  0.03401551, ...,  0.01224299,\n",
              "          0.02963549, -0.00642672]], dtype=float32),\n",
              " array([[ 4.95441407e-02, -6.87065944e-02, -1.15622804e-01, ...,\n",
              "         -1.36327356e-01, -2.69402713e-02,  6.86814860e-02],\n",
              "        [-5.50109055e-03, -5.27969338e-02,  5.03988191e-02, ...,\n",
              "         -5.01566465e-05, -2.79176552e-02,  6.51635323e-03],\n",
              "        [-5.36460318e-02, -3.71162519e-02,  1.54648395e-02, ...,\n",
              "          5.71907638e-03,  1.39317038e-02,  1.89549290e-02],\n",
              "        ...,\n",
              "        [-6.42067287e-04, -4.88816760e-02,  5.60561828e-02, ...,\n",
              "          1.00164311e-02, -7.43730646e-03,  2.63443515e-02],\n",
              "        [-4.47018892e-02, -4.70319055e-02,  4.61738482e-02, ...,\n",
              "          2.67448630e-02, -4.15087165e-03, -1.55325644e-02],\n",
              "        [-1.40455887e-01, -2.77381111e-02, -1.54492138e-02, ...,\n",
              "         -2.92103700e-02,  2.57735532e-02,  4.88046110e-02]], dtype=float32),\n",
              " array([[-0.12989475, -0.04154911, -0.07853936, ...,  0.00415383,\n",
              "         -0.04104609, -0.03688766],\n",
              "        [-0.01515181, -0.04663969,  0.02933386, ..., -0.01266625,\n",
              "          0.00705632, -0.02022649],\n",
              "        [-0.045846  , -0.04474624,  0.05606183, ...,  0.03553883,\n",
              "         -0.04221355,  0.04041535],\n",
              "        ...,\n",
              "        [-0.02683127, -0.03893208,  0.04269664, ...,  0.01621153,\n",
              "         -0.01820554, -0.01078171],\n",
              "        [-0.10002995, -0.08436245,  0.01100542, ...,  0.00125451,\n",
              "          0.02205854, -0.0051728 ],\n",
              "        [-0.03348558, -0.0541178 , -0.01552293, ..., -0.01603422,\n",
              "          0.10753381, -0.01295417]], dtype=float32),\n",
              " array([[-0.07523799, -0.0294493 , -0.01586568, ..., -0.03819323,\n",
              "         -0.01538834,  0.04945985],\n",
              "        [-0.04484358, -0.02891587,  0.03158844, ...,  0.02769125,\n",
              "         -0.00796606,  0.01314078],\n",
              "        [-0.01789618, -0.0657404 ,  0.04729917, ...,  0.02100495,\n",
              "          0.00554804,  0.00147977],\n",
              "        ...,\n",
              "        [-0.0457924 , -0.04918763,  0.03523256, ...,  0.01743535,\n",
              "         -0.00663553, -0.00846245],\n",
              "        [-0.04460473, -0.05247563,  0.03555057, ...,  0.02111546,\n",
              "         -0.00338436, -0.01718688],\n",
              "        [-0.0277789 , -0.05019163,  0.03764454, ...,  0.01787551,\n",
              "         -0.00719864, -0.01409287]], dtype=float32),\n",
              " array([[-0.0418332 , -0.0543528 ,  0.04261211, ...,  0.02260387,\n",
              "         -0.01406457, -0.01231418],\n",
              "        [-0.04902983, -0.09565917, -0.03230025, ...,  0.00945274,\n",
              "          0.04369341,  0.01041962],\n",
              "        [-0.03276648, -0.04938645,  0.03636214, ...,  0.0182903 ,\n",
              "          0.0019448 ,  0.00022713],\n",
              "        ...,\n",
              "        [-0.03191634, -0.03478766,  0.03194654, ...,  0.02093416,\n",
              "         -0.01433619, -0.00966125],\n",
              "        [-0.03435165, -0.05051095,  0.04406338, ...,  0.02567207,\n",
              "         -0.00617842, -0.01155454],\n",
              "        [-0.08385982, -0.03311219, -0.0190087 , ..., -0.02994212,\n",
              "          0.00359123,  0.0301601 ]], dtype=float32),\n",
              " array([[-0.06775897, -0.09165607,  0.05266036, ...,  0.0051791 ,\n",
              "          0.03153327, -0.03663374],\n",
              "        [-0.00617211, -0.04840256,  0.03691665, ...,  0.01024335,\n",
              "         -0.02962737,  0.00267358],\n",
              "        [-0.02876901, -0.05446172,  0.03699564, ..., -0.00809341,\n",
              "          0.00187358, -0.01185581],\n",
              "        ...,\n",
              "        [ 0.02322663, -0.05839482, -0.01075758, ..., -0.01737921,\n",
              "          0.00444075,  0.03105471],\n",
              "        [-0.01874798, -0.08105575,  0.03981017, ...,  0.01546874,\n",
              "          0.05498798, -0.00865894],\n",
              "        [-0.05642399, -0.07014181,  0.01866956, ...,  0.03240272,\n",
              "         -0.01201109, -0.02752271]], dtype=float32),\n",
              " array([[-0.01292837, -0.03406609,  0.0291302 , ...,  0.00103614,\n",
              "         -0.00908415, -0.00535123],\n",
              "        [-0.00881387, -0.01995489,  0.02565583, ...,  0.01255504,\n",
              "         -0.02854429, -0.00867701],\n",
              "        [-0.07153007, -0.0643305 ,  0.01266633, ...,  0.01568504,\n",
              "         -0.00688583, -0.00071887],\n",
              "        ...,\n",
              "        [-0.04480167, -0.02622398,  0.01320205, ...,  0.00713146,\n",
              "         -0.00256629, -0.00289417],\n",
              "        [-0.03275909, -0.03961977,  0.04203514, ...,  0.02120744,\n",
              "         -0.02228488, -0.01501356],\n",
              "        [-0.04575958, -0.05167846,  0.03797721, ...,  0.00774395,\n",
              "          0.01016191, -0.00664006]], dtype=float32),\n",
              " array([[-0.04779286, -0.05972821,  0.04459681, ...,  0.02974774,\n",
              "         -0.019879  , -0.01504918],\n",
              "        [-0.06111978, -0.02470586,  0.00384043, ...,  0.01598058,\n",
              "          0.02273298, -0.02015617],\n",
              "        [-0.04175955, -0.04438002,  0.03457444, ...,  0.02554601,\n",
              "          0.00580709, -0.00585979],\n",
              "        ...,\n",
              "        [-0.04289519, -0.06355903, -0.05344132, ..., -0.05733181,\n",
              "          0.04588785,  0.02364726],\n",
              "        [-0.0362043 , -0.06377979,  0.05307066, ...,  0.01663391,\n",
              "         -0.00805208, -0.01245979],\n",
              "        [-0.045387  , -0.03541158, -0.01287904, ...,  0.01599333,\n",
              "          0.01648727,  0.0042961 ]], dtype=float32),\n",
              " array([[-0.0344123 , -0.05600974,  0.02973468, ...,  0.01758465,\n",
              "          0.00772983, -0.01150406],\n",
              "        [-0.04207908, -0.05391951,  0.04547496, ...,  0.02903775,\n",
              "          0.00233225, -0.00778598],\n",
              "        [-0.03083796, -0.04036842,  0.03695032, ...,  0.02280389,\n",
              "         -0.0065764 , -0.01052121],\n",
              "        ...,\n",
              "        [-0.05512575, -0.02482219,  0.00195379, ...,  0.02756911,\n",
              "         -0.00716903,  0.03129994],\n",
              "        [-0.04627842, -0.03450429,  0.03639021, ...,  0.0193806 ,\n",
              "          0.01294164,  0.00016782],\n",
              "        [-0.04227605, -0.09222968,  0.014338  , ..., -0.01681315,\n",
              "          0.02987475,  0.00413635]], dtype=float32),\n",
              " array([[-0.0237788 , -0.0654922 ,  0.04978038, ...,  0.01763327,\n",
              "         -0.0013356 ,  0.00027032],\n",
              "        [-0.03308016, -0.04104322,  0.056178  , ...,  0.00554357,\n",
              "          0.01501964,  0.00310157],\n",
              "        [-0.02721193, -0.07415799,  0.04493057, ...,  0.01532348,\n",
              "         -0.00871456, -0.00207045],\n",
              "        ...,\n",
              "        [-0.00819007, -0.05376539,  0.01595486, ...,  0.01596166,\n",
              "          0.00374557, -0.01313743],\n",
              "        [-0.02760716, -0.0539232 ,  0.04010678, ...,  0.02395651,\n",
              "         -0.02409743, -0.01036402],\n",
              "        [-0.03145873, -0.05251228,  0.03581374, ...,  0.0077493 ,\n",
              "          0.02163062, -0.0065521 ]], dtype=float32),\n",
              " array([[-0.05279905, -0.07855979,  0.01820059, ...,  0.01899821,\n",
              "          0.01100792,  0.01051362],\n",
              "        [-0.04152638, -0.07606305,  0.04698901, ...,  0.0269952 ,\n",
              "         -0.01528377,  0.00087197],\n",
              "        [-0.02486055, -0.06194047,  0.03942987, ...,  0.0095567 ,\n",
              "         -0.0068541 ,  0.01020668],\n",
              "        ...,\n",
              "        [-0.03151845, -0.02869264,  0.04836364, ...,  0.01576811,\n",
              "          0.00558121,  0.00450444],\n",
              "        [-0.04261942, -0.05640911,  0.03357301, ..., -0.00798479,\n",
              "          0.0467034 ,  0.00484431],\n",
              "        [-0.05454452,  0.04044774, -0.01873654, ...,  0.01485708,\n",
              "         -0.03487084,  0.03762085]], dtype=float32),\n",
              " array([[-0.03767021, -0.05982628,  0.00603418, ...,  0.02031704,\n",
              "         -0.03124634,  0.01754832],\n",
              "        [-0.02955146, -0.04109911,  0.03932906, ...,  0.01914218,\n",
              "         -0.01257052, -0.01466196],\n",
              "        [-0.02852045, -0.04985128,  0.04190066, ...,  0.02363327,\n",
              "         -0.01634071, -0.01550243],\n",
              "        ...,\n",
              "        [-0.04072989, -0.03979815,  0.03245138, ...,  0.02132692,\n",
              "         -0.01224629, -0.02044984],\n",
              "        [-0.03073657, -0.04073967,  0.04777331, ...,  0.02789374,\n",
              "         -0.00666254, -0.00731885],\n",
              "        [-0.06131599, -0.07258345,  0.02027492, ...,  0.00394791,\n",
              "          0.03914366, -0.0146527 ]], dtype=float32),\n",
              " array([[-0.05450129, -0.03421388,  0.02071278, ...,  0.00509831,\n",
              "         -0.01219486, -0.00438412],\n",
              "        [-0.02751401, -0.05291863,  0.03981902, ...,  0.02268325,\n",
              "         -0.02708907, -0.00075947],\n",
              "        [-0.0376405 , -0.03986094,  0.02679169, ...,  0.0260904 ,\n",
              "          0.00566232, -0.00844136],\n",
              "        ...,\n",
              "        [-0.06169976, -0.05562463,  0.00802395, ...,  0.01727884,\n",
              "         -0.01761578, -0.05291007],\n",
              "        [-0.06348228, -0.05287348,  0.03158613, ..., -0.00589462,\n",
              "          0.06259731,  0.00999551],\n",
              "        [-0.07802296, -0.0843918 ,  0.02997981, ...,  0.01882949,\n",
              "          0.0199303 , -0.01987215]], dtype=float32),\n",
              " array([[-0.07902716, -0.05048291,  0.02465112, ...,  0.03078853,\n",
              "          0.01193595, -0.02781849],\n",
              "        [-0.06060285, -0.06087245,  0.0036953 , ...,  0.01538853,\n",
              "          0.06302886,  0.0042428 ],\n",
              "        [-0.04529088, -0.02819646,  0.0642917 , ...,  0.00537933,\n",
              "          0.01148236,  0.00887823],\n",
              "        ...,\n",
              "        [ 0.01539205,  0.06243813, -0.10084044, ...,  0.01799428,\n",
              "         -0.00905446,  0.10443729],\n",
              "        [-0.02730253, -0.04822237,  0.03890161, ...,  0.0210668 ,\n",
              "         -0.00822254, -0.01293913],\n",
              "        [-0.05215184, -0.06851708,  0.03596415, ...,  0.02511322,\n",
              "          0.03292347, -0.00697739]], dtype=float32),\n",
              " array([[-0.04181425, -0.04620729,  0.04220013, ...,  0.02786547,\n",
              "         -0.01097971, -0.01229124],\n",
              "        [-0.05516334, -0.04257269,  0.03902105, ...,  0.02264477,\n",
              "         -0.00479373, -0.00456259],\n",
              "        [-0.06543739, -0.07159811,  0.03743376, ..., -0.02505618,\n",
              "          0.01715267, -0.00325779],\n",
              "        ...,\n",
              "        [-0.02792866, -0.04672843,  0.02764579, ...,  0.00118603,\n",
              "         -0.00390812,  0.0163203 ],\n",
              "        [-0.04613475, -0.04967088,  0.03445532, ...,  0.01691614,\n",
              "         -0.0163827 , -0.01281604],\n",
              "        [-0.03913401, -0.04817425,  0.04486216, ...,  0.01735437,\n",
              "         -0.01547233, -0.00292042]], dtype=float32),\n",
              " array([[-0.16258308, -0.02707802, -0.22625968, ..., -0.2897622 ,\n",
              "          0.11148307,  0.1748275 ],\n",
              "        [-0.00996974, -0.10759914,  0.0269628 , ...,  0.01727387,\n",
              "          0.01590427,  0.01281356],\n",
              "        [-0.04578909, -0.03076667,  0.01357127, ...,  0.02433911,\n",
              "         -0.00135705, -0.00265426],\n",
              "        ...,\n",
              "        [-0.14355168,  0.01560871, -0.11521907, ..., -0.03008602,\n",
              "          0.08452211,  0.03320083],\n",
              "        [-0.1109591 , -0.0516375 ,  0.02310864, ..., -0.0257696 ,\n",
              "          0.00203137, -0.01146893],\n",
              "        [-0.05153563,  0.00944641, -0.05400192, ..., -0.08573236,\n",
              "          0.00418573,  0.04928571]], dtype=float32)]"
            ]
          },
          "metadata": {
            "tags": []
          },
          "execution_count": 15
        }
      ]
    },
    {
      "cell_type": "code",
      "metadata": {
        "id": "9wfvhrfaep6P",
        "colab_type": "code",
        "outputId": "060cbed9-33ed-46ee-a7c6-93ba530c60a4",
        "colab": {
          "base_uri": "https://localhost:8080/",
          "height": 1000
        }
      },
      "source": [
        "elmo_test"
      ],
      "execution_count": 0,
      "outputs": [
        {
          "output_type": "execute_result",
          "data": {
            "text/plain": [
              "[array([[-0.05326062, -0.06124051,  0.04537567, ...,  0.00742864,\n",
              "          0.02900877,  0.00483274],\n",
              "        [-0.06810917, -0.09128679,  0.02971454, ...,  0.01206785,\n",
              "          0.04824762,  0.00877706],\n",
              "        [ 0.0160447 , -0.02611344,  0.00804006, ..., -0.00463661,\n",
              "         -0.01888676,  0.03733744],\n",
              "        ...,\n",
              "        [-0.03945666, -0.04441421,  0.03120306, ...,  0.02430628,\n",
              "          0.00561232,  0.00195314],\n",
              "        [-0.05151843, -0.04660274,  0.02820182, ...,  0.01540758,\n",
              "          0.02060791, -0.00421001],\n",
              "        [-0.02928001, -0.04845738,  0.04182708, ...,  0.00053852,\n",
              "         -0.03154545, -0.0025092 ]], dtype=float32),\n",
              " array([[-0.03629624, -0.04941849,  0.02975987, ...,  0.02533332,\n",
              "         -0.00616744, -0.00125148],\n",
              "        [-0.03266003, -0.03854065,  0.03651969, ...,  0.02401906,\n",
              "         -0.0126849 , -0.01374952],\n",
              "        [-0.03083234, -0.04788613,  0.03997696, ...,  0.02388266,\n",
              "         -0.00704781, -0.00881144],\n",
              "        ...,\n",
              "        [-0.0160342 , -0.0458023 ,  0.03373792, ...,  0.0127364 ,\n",
              "          0.00032473, -0.02379092],\n",
              "        [-0.03146313, -0.05747158,  0.04252855, ...,  0.01866925,\n",
              "         -0.01389858,  0.00020381],\n",
              "        [-0.07933079, -0.03996122,  0.0133592 , ...,  0.03995951,\n",
              "         -0.01618599, -0.00756741]], dtype=float32),\n",
              " array([[-0.04831945, -0.04730002,  0.02510638, ...,  0.02192702,\n",
              "          0.03817983,  0.01455608],\n",
              "        [-0.03090346, -0.05992503,  0.04306332, ...,  0.02061007,\n",
              "         -0.00798113, -0.00915585],\n",
              "        [-0.04848087, -0.01838044,  0.03428686, ..., -0.0152639 ,\n",
              "         -0.02194169, -0.00364062],\n",
              "        ...,\n",
              "        [-0.05708384,  0.01450312, -0.13325141, ...,  0.00695557,\n",
              "          0.05872926,  0.01488594],\n",
              "        [-0.02342414, -0.02993655,  0.03182425, ...,  0.01912996,\n",
              "          0.00063294, -0.00960503],\n",
              "        [-0.02370586, -0.03060064,  0.03493898, ...,  0.02149978,\n",
              "         -0.04203349,  0.00237683]], dtype=float32),\n",
              " array([[-0.0153358 , -0.05547867,  0.02284024, ...,  0.01560444,\n",
              "          0.00717033, -0.00364352],\n",
              "        [-0.04741414, -0.05674412,  0.03460047, ...,  0.03382143,\n",
              "          0.00934726, -0.01543032],\n",
              "        [-0.05488514, -0.04267688,  0.05011928, ...,  0.01746328,\n",
              "          0.01040599, -0.020618  ],\n",
              "        ...,\n",
              "        [-0.0436996 , -0.04766969,  0.04091424, ...,  0.02694765,\n",
              "         -0.00970108, -0.0066595 ],\n",
              "        [-0.01152694, -0.02447657,  0.03343452, ...,  0.0078016 ,\n",
              "          0.01020597, -0.00595145],\n",
              "        [-0.08239118, -0.03208856, -0.027938  , ...,  0.00777087,\n",
              "         -0.02146332,  0.0520437 ]], dtype=float32),\n",
              " array([[-0.04592255, -0.0989278 , -0.02361844, ..., -0.04808799,\n",
              "         -0.07632786,  0.0134149 ],\n",
              "        [-0.02805043, -0.02047399,  0.02547589, ...,  0.03310852,\n",
              "         -0.00687299, -0.0297493 ],\n",
              "        [-0.03336855, -0.03761978,  0.04186096, ...,  0.02699214,\n",
              "         -0.01438   , -0.01046763],\n",
              "        ...,\n",
              "        [-0.05380379, -0.02957317,  0.02689087, ...,  0.02426163,\n",
              "         -0.01987279, -0.00710149],\n",
              "        [-0.07261065, -0.08662076,  0.04738573, ...,  0.00158885,\n",
              "         -0.02041401,  0.0127396 ],\n",
              "        [ 0.08057701, -0.03370219, -0.11450407, ..., -0.00783371,\n",
              "          0.03020335,  0.03194639]], dtype=float32),\n",
              " array([[-0.03172482, -0.03910345,  0.04384805, ...,  0.01712339,\n",
              "         -0.01037144, -0.00514766],\n",
              "        [-0.03094209, -0.04785587,  0.04118752, ...,  0.02562836,\n",
              "         -0.01053939, -0.0082406 ],\n",
              "        [-0.04014499, -0.02717146,  0.0310754 , ...,  0.02597394,\n",
              "          0.00547259, -0.02152455],\n",
              "        ...,\n",
              "        [-0.01700861, -0.00995119, -0.00435629, ..., -0.10496842,\n",
              "         -0.04431852,  0.03115886],\n",
              "        [-0.02471437, -0.04055406,  0.04361675, ...,  0.02549187,\n",
              "         -0.01599188, -0.01360084],\n",
              "        [-0.02375213, -0.05304045,  0.04012548, ...,  0.01699035,\n",
              "         -0.01910345, -0.01315119]], dtype=float32),\n",
              " array([[-0.04849911, -0.05696308,  0.03380527, ...,  0.02410221,\n",
              "          0.00466489, -0.01973065],\n",
              "        [-0.04048818, -0.04865624,  0.04491612, ...,  0.02326889,\n",
              "         -0.00843212, -0.01340821],\n",
              "        [-0.04682064, -0.01500218,  0.03645504, ...,  0.02097052,\n",
              "          0.01505888,  0.00086131],\n",
              "        ...,\n",
              "        [-0.03966846, -0.03639795,  0.01839989, ...,  0.00151915,\n",
              "         -0.01142874,  0.02144657],\n",
              "        [-0.05409583, -0.05336893,  0.03677777, ...,  0.03217448,\n",
              "          0.02533747,  0.00395956],\n",
              "        [-0.0366987 , -0.04662746,  0.0227689 , ...,  0.0214819 ,\n",
              "         -0.01731347, -0.00868239]], dtype=float32),\n",
              " array([[-0.14197761, -0.04470615, -0.0342919 , ..., -0.06893258,\n",
              "          0.05819599,  0.00817437],\n",
              "        [-0.02953726, -0.04408189,  0.04053207, ...,  0.02515054,\n",
              "         -0.01328302, -0.01557065],\n",
              "        [-0.02741837, -0.03396491,  0.03867179, ...,  0.02631857,\n",
              "         -0.01673367, -0.01499319],\n",
              "        ...,\n",
              "        [-0.03974027, -0.03280874,  0.03515377, ...,  0.00218498,\n",
              "         -0.00642869, -0.01055404],\n",
              "        [-0.0438623 , -0.01370777,  0.0264094 , ..., -0.00229483,\n",
              "         -0.00923892,  0.0163564 ],\n",
              "        [-0.02738511, -0.04722535,  0.04291309, ...,  0.01965513,\n",
              "         -0.01225822, -0.01475885]], dtype=float32)]"
            ]
          },
          "metadata": {
            "tags": []
          },
          "execution_count": 16
        }
      ]
    },
    {
      "cell_type": "code",
      "metadata": {
        "id": "JbCYZ5SberTe",
        "colab_type": "code",
        "outputId": "842fec5b-bd05-444a-d433-1af0ac20be4c",
        "colab": {
          "base_uri": "https://localhost:8080/",
          "height": 51
        }
      },
      "source": [
        "print(len(elmo_train))\n",
        "print(len(elmo_test))"
      ],
      "execution_count": 0,
      "outputs": [
        {
          "output_type": "stream",
          "text": [
            "19\n",
            "8\n"
          ],
          "name": "stdout"
        }
      ]
    },
    {
      "cell_type": "code",
      "metadata": {
        "id": "cREMWvneevxd",
        "colab_type": "code",
        "outputId": "5ad4b3f7-54b4-4ca6-f35c-855687c8ba6b",
        "colab": {
          "base_uri": "https://localhost:8080/",
          "height": 51
        }
      },
      "source": [
        "import numpy as np\n",
        "elmo_train_new = np.concatenate(elmo_train, axis = 0)\n",
        "elmo_test_new = np.concatenate(elmo_test, axis = 0)\n",
        "\n",
        "print(len(elmo_train_new))\n",
        "print(len(elmo_test_new))"
      ],
      "execution_count": 0,
      "outputs": [
        {
          "output_type": "stream",
          "text": [
            "1836\n",
            "788\n"
          ],
          "name": "stdout"
        }
      ]
    },
    {
      "cell_type": "code",
      "metadata": {
        "id": "VYAv9-D6e3NS",
        "colab_type": "code",
        "outputId": "3b7190a4-9f6a-4638-fa22-e4c3336a43e7",
        "colab": {
          "base_uri": "https://localhost:8080/",
          "height": 51
        }
      },
      "source": [
        "print(len(train['Categorisation']))\n",
        "print(len(test['Categorisation']))"
      ],
      "execution_count": 0,
      "outputs": [
        {
          "output_type": "stream",
          "text": [
            "1836\n",
            "788\n"
          ],
          "name": "stdout"
        }
      ]
    },
    {
      "cell_type": "code",
      "metadata": {
        "id": "qaeBW2VJe37B",
        "colab_type": "code",
        "outputId": "4f7c10d6-a960-4b6f-f6d0-4ee36f05423a",
        "colab": {
          "base_uri": "https://localhost:8080/",
          "height": 34
        }
      },
      "source": [
        "df.shape"
      ],
      "execution_count": 0,
      "outputs": [
        {
          "output_type": "execute_result",
          "data": {
            "text/plain": [
              "(2624, 2)"
            ]
          },
          "metadata": {
            "tags": []
          },
          "execution_count": 21
        }
      ]
    },
    {
      "cell_type": "code",
      "metadata": {
        "id": "9OJP9FmPe-T8",
        "colab_type": "code",
        "colab": {}
      },
      "source": [
        "import pickle\n",
        "pickle_out = open(\"elmoemb_train.pickle\",\"wb\")\n",
        "pickle.dump(elmo_train_new, pickle_out)\n",
        "pickle_out.close()\n",
        "\n",
        "# save elmo_test_new\n",
        "pickle_out = open(\"elmoemb_test.pickle\",\"wb\")\n",
        "pickle.dump(elmo_test_new, pickle_out)\n",
        "pickle_out.close()"
      ],
      "execution_count": 0,
      "outputs": []
    },
    {
      "cell_type": "code",
      "metadata": {
        "id": "O25TkpcFfAen",
        "colab_type": "code",
        "colab": {}
      },
      "source": [
        "import pickle\n",
        "pickle_in = open(\"elmoemb_train.pickle\", \"rb\")\n",
        "elmo_train_new = pickle.load(pickle_in)\n",
        "\n",
        "# load elmo_train_new\n",
        "pickle_in = open(\"elmoemb_test.pickle\", \"rb\")\n",
        "elmo_test_new = pickle.load(pickle_in)"
      ],
      "execution_count": 0,
      "outputs": []
    },
    {
      "cell_type": "code",
      "metadata": {
        "id": "_IhI-NlifChF",
        "colab_type": "code",
        "colab": {}
      },
      "source": [
        "from sklearn.model_selection import train_test_split\n",
        "\n",
        "X_train, X_val, y_train, y_val = train_test_split(elmo_train_new, \n",
        "                                                  train['Categorisation'],  \n",
        "                                                  random_state=42, \n",
        "                                                  test_size=0.3)"
      ],
      "execution_count": 0,
      "outputs": []
    },
    {
      "cell_type": "code",
      "metadata": {
        "id": "GiRDQyQRfIPl",
        "colab_type": "code",
        "outputId": "3a67c644-0990-4817-8a43-7a9f388afce1",
        "colab": {
          "base_uri": "https://localhost:8080/",
          "height": 34
        }
      },
      "source": [
        "print(X_train.shape, X_val.shape, y_train.shape, y_val.shape)"
      ],
      "execution_count": 0,
      "outputs": [
        {
          "output_type": "stream",
          "text": [
            "(1285, 1024) (551, 1024) (1285,) (551,)\n"
          ],
          "name": "stdout"
        }
      ]
    },
    {
      "cell_type": "markdown",
      "metadata": {
        "id": "xZlLu3yDfvH6",
        "colab_type": "text"
      },
      "source": [
        "# Decision Tree"
      ]
    },
    {
      "cell_type": "code",
      "metadata": {
        "id": "raDDo1jEfKpB",
        "colab_type": "code",
        "outputId": "f404aa29-5d05-4e07-edae-329cdca43b51",
        "colab": {
          "base_uri": "https://localhost:8080/",
          "height": 224
        }
      },
      "source": [
        "from sklearn.pipeline import Pipeline\n",
        "from sklearn.model_selection import GridSearchCV, cross_val_score\n",
        "from sklearn.tree import DecisionTreeClassifier\n",
        "from sklearn.metrics import confusion_matrix \n",
        "\n",
        "dtree = DecisionTreeClassifier()\n",
        "pipeline = Pipeline(steps=[('dt', dtree)])\n",
        "\n",
        "\n",
        "param_range = [1, 2, 3, 4, 5]\n",
        "\n",
        "parameters = dict(dt__criterion= ['gini', 'entropy'],\n",
        "dt__min_samples_leaf= param_range,\n",
        "dt__max_depth= param_range,\n",
        "dt__min_samples_split= param_range[1:],\n",
        "dt__presort= [True, False])\n",
        "\n",
        "\n",
        "dt_clf = GridSearchCV(estimator=pipeline,param_grid=parameters,scoring='accuracy',cv=5) \n",
        "dt_clf.fit(X_train, y_train)\n",
        "cross_val_score(dt_clf, X_train, y_train)\n",
        "print('Best Criterion:', dt_clf.best_estimator_.get_params()['dt__criterion'])\n",
        "print('Best Min Sample Leaf:', dt_clf.best_estimator_.get_params()['dt__min_samples_leaf'])\n",
        "print('Best Max Depth:', dt_clf.best_estimator_.get_params()['dt__max_depth'])\n",
        "print('Best Min Sample Split:', dt_clf.best_estimator_.get_params()['dt__min_samples_split'])\n",
        "print('Best Presort:', dt_clf.best_estimator_.get_params()['dt__presort'])\n",
        "\n",
        "y_pred = dt_clf.predict(X_val) \n",
        "cm = confusion_matrix(y_val,y_pred)\n",
        "\n",
        "print(\"Accuracy on Train Set\",dt_clf.score(X_train,y_train))\n",
        "print(\"Accuracy on Validation Set\",dt_clf.score(X_val,y_val))\n",
        "cm"
      ],
      "execution_count": 0,
      "outputs": [
        {
          "output_type": "stream",
          "text": [
            "/usr/local/lib/python3.6/dist-packages/sklearn/model_selection/_split.py:1978: FutureWarning: The default value of cv will change from 3 to 5 in version 0.22. Specify it explicitly to silence this warning.\n",
            "  warnings.warn(CV_WARNING, FutureWarning)\n"
          ],
          "name": "stderr"
        },
        {
          "output_type": "stream",
          "text": [
            "Best Criterion: gini\n",
            "Best Min Sample Leaf: 1\n",
            "Best Max Depth: 3\n",
            "Best Min Sample Split: 2\n",
            "Best Presort: True\n",
            "Accuracy on Train Set 0.7603112840466926\n",
            "Accuracy on Validation Set 0.647912885662432\n"
          ],
          "name": "stdout"
        },
        {
          "output_type": "execute_result",
          "data": {
            "text/plain": [
              "array([[156, 115],\n",
              "       [ 79, 201]])"
            ]
          },
          "metadata": {
            "tags": []
          },
          "execution_count": 26
        }
      ]
    },
    {
      "cell_type": "code",
      "metadata": {
        "id": "PaBgLb86fe4o",
        "colab_type": "code",
        "outputId": "b25b21ef-2067-4660-97e4-64d2067cd8ce",
        "colab": {
          "base_uri": "https://localhost:8080/",
          "height": 34
        }
      },
      "source": [
        "preds_test = dt_clf.predict(elmo_test_new)  \n",
        "from sklearn.metrics import accuracy_score\n",
        "accuracy_score(test['Categorisation'],preds_test)"
      ],
      "execution_count": 0,
      "outputs": [
        {
          "output_type": "execute_result",
          "data": {
            "text/plain": [
              "0.6459390862944162"
            ]
          },
          "metadata": {
            "tags": []
          },
          "execution_count": 27
        }
      ]
    },
    {
      "cell_type": "markdown",
      "metadata": {
        "id": "MjwXJp3CfyHq",
        "colab_type": "text"
      },
      "source": [
        "# Naive Bayes"
      ]
    },
    {
      "cell_type": "code",
      "metadata": {
        "id": "77AcE6OffnhO",
        "colab_type": "code",
        "outputId": "94d9ce04-94cd-4bf8-fcbe-cfce9a6dd492",
        "colab": {
          "base_uri": "https://localhost:8080/",
          "height": 870
        }
      },
      "source": [
        "from sklearn.naive_bayes import BernoulliNB\n",
        "from sklearn.pipeline import Pipeline\n",
        "from sklearn.model_selection import GridSearchCV, cross_val_score\n",
        "from sklearn.metrics import confusion_matrix \n",
        "\n",
        "nb = BernoulliNB()\n",
        "\n",
        "pipeline = Pipeline(steps=[('nb', nb)])\n",
        "\n",
        "parameters = dict(nb__alpha= [0, 0.01, 0.05, 0.1, 0.3, 0.5])\n",
        "\n",
        "nb_clf = GridSearchCV(estimator=pipeline,param_grid=parameters,scoring='accuracy',cv=5) \n",
        "nb_clf.fit(X_train, y_train)\n",
        "cross_val_score(nb_clf, X_train, y_train)\n",
        "print('Best Alpha:', nb_clf.best_estimator_.get_params()['nb__alpha'])\n",
        "\n",
        "y_pred = nb_clf.predict(X_val) \n",
        "cm = confusion_matrix(y_val,y_pred)\n",
        "\n",
        "print(\"Accuracy on Train Set\",nb_clf.score(X_train,y_train))\n",
        "print(\"Accuracy on Validation Set\",nb_clf.score(X_val,y_val))\n",
        "cm"
      ],
      "execution_count": 0,
      "outputs": [
        {
          "output_type": "stream",
          "text": [
            "/usr/local/lib/python3.6/dist-packages/sklearn/naive_bayes.py:485: UserWarning: alpha too small will result in numeric errors, setting alpha = 1.0e-10\n",
            "  'setting alpha = %.1e' % _ALPHA_MIN)\n",
            "/usr/local/lib/python3.6/dist-packages/sklearn/naive_bayes.py:485: UserWarning: alpha too small will result in numeric errors, setting alpha = 1.0e-10\n",
            "  'setting alpha = %.1e' % _ALPHA_MIN)\n",
            "/usr/local/lib/python3.6/dist-packages/sklearn/naive_bayes.py:485: UserWarning: alpha too small will result in numeric errors, setting alpha = 1.0e-10\n",
            "  'setting alpha = %.1e' % _ALPHA_MIN)\n",
            "/usr/local/lib/python3.6/dist-packages/sklearn/naive_bayes.py:485: UserWarning: alpha too small will result in numeric errors, setting alpha = 1.0e-10\n",
            "  'setting alpha = %.1e' % _ALPHA_MIN)\n",
            "/usr/local/lib/python3.6/dist-packages/sklearn/naive_bayes.py:485: UserWarning: alpha too small will result in numeric errors, setting alpha = 1.0e-10\n",
            "  'setting alpha = %.1e' % _ALPHA_MIN)\n",
            "/usr/local/lib/python3.6/dist-packages/sklearn/model_selection/_split.py:1978: FutureWarning: The default value of cv will change from 3 to 5 in version 0.22. Specify it explicitly to silence this warning.\n",
            "  warnings.warn(CV_WARNING, FutureWarning)\n",
            "/usr/local/lib/python3.6/dist-packages/sklearn/naive_bayes.py:485: UserWarning: alpha too small will result in numeric errors, setting alpha = 1.0e-10\n",
            "  'setting alpha = %.1e' % _ALPHA_MIN)\n",
            "/usr/local/lib/python3.6/dist-packages/sklearn/naive_bayes.py:485: UserWarning: alpha too small will result in numeric errors, setting alpha = 1.0e-10\n",
            "  'setting alpha = %.1e' % _ALPHA_MIN)\n",
            "/usr/local/lib/python3.6/dist-packages/sklearn/naive_bayes.py:485: UserWarning: alpha too small will result in numeric errors, setting alpha = 1.0e-10\n",
            "  'setting alpha = %.1e' % _ALPHA_MIN)\n",
            "/usr/local/lib/python3.6/dist-packages/sklearn/naive_bayes.py:485: UserWarning: alpha too small will result in numeric errors, setting alpha = 1.0e-10\n",
            "  'setting alpha = %.1e' % _ALPHA_MIN)\n",
            "/usr/local/lib/python3.6/dist-packages/sklearn/naive_bayes.py:485: UserWarning: alpha too small will result in numeric errors, setting alpha = 1.0e-10\n",
            "  'setting alpha = %.1e' % _ALPHA_MIN)\n",
            "/usr/local/lib/python3.6/dist-packages/sklearn/naive_bayes.py:485: UserWarning: alpha too small will result in numeric errors, setting alpha = 1.0e-10\n",
            "  'setting alpha = %.1e' % _ALPHA_MIN)\n",
            "/usr/local/lib/python3.6/dist-packages/sklearn/naive_bayes.py:485: UserWarning: alpha too small will result in numeric errors, setting alpha = 1.0e-10\n",
            "  'setting alpha = %.1e' % _ALPHA_MIN)\n",
            "/usr/local/lib/python3.6/dist-packages/sklearn/naive_bayes.py:485: UserWarning: alpha too small will result in numeric errors, setting alpha = 1.0e-10\n",
            "  'setting alpha = %.1e' % _ALPHA_MIN)\n",
            "/usr/local/lib/python3.6/dist-packages/sklearn/naive_bayes.py:485: UserWarning: alpha too small will result in numeric errors, setting alpha = 1.0e-10\n",
            "  'setting alpha = %.1e' % _ALPHA_MIN)\n",
            "/usr/local/lib/python3.6/dist-packages/sklearn/naive_bayes.py:485: UserWarning: alpha too small will result in numeric errors, setting alpha = 1.0e-10\n",
            "  'setting alpha = %.1e' % _ALPHA_MIN)\n",
            "/usr/local/lib/python3.6/dist-packages/sklearn/naive_bayes.py:485: UserWarning: alpha too small will result in numeric errors, setting alpha = 1.0e-10\n",
            "  'setting alpha = %.1e' % _ALPHA_MIN)\n",
            "/usr/local/lib/python3.6/dist-packages/sklearn/naive_bayes.py:485: UserWarning: alpha too small will result in numeric errors, setting alpha = 1.0e-10\n",
            "  'setting alpha = %.1e' % _ALPHA_MIN)\n",
            "/usr/local/lib/python3.6/dist-packages/sklearn/naive_bayes.py:485: UserWarning: alpha too small will result in numeric errors, setting alpha = 1.0e-10\n",
            "  'setting alpha = %.1e' % _ALPHA_MIN)\n",
            "/usr/local/lib/python3.6/dist-packages/sklearn/naive_bayes.py:485: UserWarning: alpha too small will result in numeric errors, setting alpha = 1.0e-10\n",
            "  'setting alpha = %.1e' % _ALPHA_MIN)\n",
            "/usr/local/lib/python3.6/dist-packages/sklearn/naive_bayes.py:485: UserWarning: alpha too small will result in numeric errors, setting alpha = 1.0e-10\n",
            "  'setting alpha = %.1e' % _ALPHA_MIN)\n",
            "/usr/local/lib/python3.6/dist-packages/sklearn/naive_bayes.py:485: UserWarning: alpha too small will result in numeric errors, setting alpha = 1.0e-10\n",
            "  'setting alpha = %.1e' % _ALPHA_MIN)\n"
          ],
          "name": "stderr"
        },
        {
          "output_type": "stream",
          "text": [
            "Best Alpha: 0.01\n",
            "Accuracy on Train Set 0.598443579766537\n",
            "Accuracy on Validation Set 0.5916515426497277\n"
          ],
          "name": "stdout"
        },
        {
          "output_type": "execute_result",
          "data": {
            "text/plain": [
              "array([[114, 157],\n",
              "       [ 68, 212]])"
            ]
          },
          "metadata": {
            "tags": []
          },
          "execution_count": 28
        }
      ]
    },
    {
      "cell_type": "code",
      "metadata": {
        "id": "dTbLJ6QAfojd",
        "colab_type": "code",
        "outputId": "4e2d6c27-b17e-452d-bceb-091476b6ef9f",
        "colab": {
          "base_uri": "https://localhost:8080/",
          "height": 34
        }
      },
      "source": [
        "preds_test = nb_clf.predict(elmo_test_new) \n",
        "from sklearn.metrics import accuracy_score\n",
        "accuracy_score(test['Categorisation'],preds_test)"
      ],
      "execution_count": 0,
      "outputs": [
        {
          "output_type": "execute_result",
          "data": {
            "text/plain": [
              "0.5862944162436549"
            ]
          },
          "metadata": {
            "tags": []
          },
          "execution_count": 29
        }
      ]
    },
    {
      "cell_type": "markdown",
      "metadata": {
        "id": "UJM2iNd3gWRw",
        "colab_type": "text"
      },
      "source": [
        "# XgBoost"
      ]
    },
    {
      "cell_type": "code",
      "metadata": {
        "id": "aou-vg-AgYw3",
        "colab_type": "code",
        "outputId": "cf588054-114e-4494-cc38-83ca2a484acd",
        "colab": {
          "base_uri": "https://localhost:8080/",
          "height": 258
        }
      },
      "source": [
        "from xgboost import XGBClassifier\n",
        "from sklearn.pipeline import Pipeline\n",
        "from sklearn.model_selection import GridSearchCV, cross_val_score\n",
        "\n",
        "xgb = XGBClassifier(learning_rate=0.02, n_estimators=10, objective='multi:softmax',\n",
        "                    silent=True, nthread=1,num_class=3)\n",
        "\n",
        "pipeline = Pipeline(steps=[('xgb', xgb)])\n",
        "\n",
        "parameters = dict(\n",
        "        xgb__min_child_weight= [1, 5, 10],\n",
        "        xgb__gamma= [0.5, 1, 1.5, 2, 5],\n",
        "        xgb__subsample= [0.6, 0.8, 1.0],\n",
        "        xgb__colsample_bytree= [0.6, 0.8, 1.0],\n",
        "        xgb__max_depth= [3, 4, 5])\n",
        "\n",
        "\n",
        "xgb_clf = GridSearchCV(estimator=pipeline,param_grid=parameters,scoring='accuracy',cv=5) \n",
        "xgb_clf.fit(X_train, y_train)\n",
        "cross_val_score(xgb_clf, X_train, y_train)\n",
        "print('Best Mid Child Weight:', xgb_clf.best_estimator_.get_params()['xgb__min_child_weight'])\n",
        "print('Best Gamma:', xgb_clf.best_estimator_.get_params()['xgb__gamma'])\n",
        "print('Best Subsample:', xgb_clf.best_estimator_.get_params()['xgb__subsample'])\n",
        "print('Best Col Sample By tree:', xgb_clf.best_estimator_.get_params()['xgb__colsample_bytree'])\n",
        "print('Best Max Depth:', xgb_clf.best_estimator_.get_params()['xgb__max_depth'])\n",
        "\n",
        "y_pred = xgb_clf.predict(X_val) \n",
        "cm = confusion_matrix(y_val,y_pred)\n",
        "\n",
        "print(\"Accuracy on Train Set\",xgb_clf.score(X_train,y_train))\n",
        "print(\"Accuracy on Validation Set\",xgb_clf.score(X_val,y_val))\n",
        "cm"
      ],
      "execution_count": 0,
      "outputs": [
        {
          "output_type": "stream",
          "text": [
            "/usr/local/lib/python3.6/dist-packages/sklearn/model_selection/_split.py:1978: FutureWarning: The default value of cv will change from 3 to 5 in version 0.22. Specify it explicitly to silence this warning.\n",
            "  warnings.warn(CV_WARNING, FutureWarning)\n",
            "/usr/local/lib/python3.6/dist-packages/sklearn/model_selection/_search.py:814: DeprecationWarning: The default of the `iid` parameter will change from True to False in version 0.22 and will be removed in 0.24. This will change numeric results when test-set sizes are unequal.\n",
            "  DeprecationWarning)\n"
          ],
          "name": "stderr"
        },
        {
          "output_type": "stream",
          "text": [
            "Best Mid Child Weight: 5\n",
            "Best Gamma: 5\n",
            "Best Subsample: 0.6\n",
            "Best Col Sample By tree: 0.6\n",
            "Best Max Depth: 5\n",
            "Accuracy on Train Set 0.9190661478599221\n",
            "Accuracy on Validation Set 0.7713248638838476\n"
          ],
          "name": "stdout"
        },
        {
          "output_type": "execute_result",
          "data": {
            "text/plain": [
              "array([[204,  67],\n",
              "       [ 59, 221]])"
            ]
          },
          "metadata": {
            "tags": []
          },
          "execution_count": 30
        }
      ]
    },
    {
      "cell_type": "code",
      "metadata": {
        "id": "amKnK4TpgWA7",
        "colab_type": "code",
        "outputId": "8d81f0f3-4a0f-4cf5-b9e9-6308eaa31aff",
        "colab": {
          "base_uri": "https://localhost:8080/",
          "height": 34
        }
      },
      "source": [
        "preds_test = xgb_clf.predict(elmo_test_new) \n",
        "from sklearn.metrics import accuracy_score\n",
        "accuracy_score(test['Categorisation'],preds_test)"
      ],
      "execution_count": 0,
      "outputs": [
        {
          "output_type": "execute_result",
          "data": {
            "text/plain": [
              "0.7753807106598984"
            ]
          },
          "metadata": {
            "tags": []
          },
          "execution_count": 32
        }
      ]
    }
  ]
}