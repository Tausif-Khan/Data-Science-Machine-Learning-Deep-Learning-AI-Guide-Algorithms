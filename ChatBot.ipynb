{
  "nbformat": 4,
  "nbformat_minor": 0,
  "metadata": {
    "colab": {
      "name": "ChatBot.ipynb",
      "version": "0.3.2",
      "provenance": [],
      "include_colab_link": true
    },
    "kernelspec": {
      "name": "python3",
      "display_name": "Python 3"
    }
  },
  "cells": [
    {
      "cell_type": "markdown",
      "metadata": {
        "id": "view-in-github",
        "colab_type": "text"
      },
      "source": [
        "<a href=\"https://colab.research.google.com/github/myrondza/Data-Science-Machine-Learning-Deep-Learning-AI-Guide-Algorithms/blob/master/ChatBot.ipynb\" target=\"_parent\"><img src=\"https://colab.research.google.com/assets/colab-badge.svg\" alt=\"Open In Colab\"/></a>"
      ]
    },
    {
      "cell_type": "markdown",
      "metadata": {
        "id": "Leb3OOt-KsN3",
        "colab_type": "text"
      },
      "source": [
        "# ChatBot (Keras & Tensorflow)"
      ]
    },
    {
      "cell_type": "code",
      "metadata": {
        "id": "KChSzNEzKlw1",
        "colab_type": "code",
        "colab": {}
      },
      "source": [
        "import pickle\n",
        "import numpy as np"
      ],
      "execution_count": 0,
      "outputs": []
    },
    {
      "cell_type": "code",
      "metadata": {
        "id": "T-FqwH_KDgYu",
        "colab_type": "code",
        "colab": {}
      },
      "source": [
        "with open('train_qa.txt', 'rb') as f:\n",
        "    train_data = pickle.load(f)"
      ],
      "execution_count": 0,
      "outputs": []
    },
    {
      "cell_type": "code",
      "metadata": {
        "id": "clR22pDGDkyf",
        "colab_type": "code",
        "colab": {}
      },
      "source": [
        "with open('test_qa.txt', 'rb') as f:\n",
        "    test_data = pickle.load(f)"
      ],
      "execution_count": 0,
      "outputs": []
    },
    {
      "cell_type": "code",
      "metadata": {
        "id": "jD63Y77XDpVM",
        "colab_type": "code",
        "outputId": "42ae244e-0993-4555-87de-028a0cdf2260",
        "colab": {
          "base_uri": "https://localhost:8080/",
          "height": 278
        }
      },
      "source": [
        "train_data[10]\n"
      ],
      "execution_count": 0,
      "outputs": [
        {
          "output_type": "execute_result",
          "data": {
            "text/plain": [
              "(['Sandra',\n",
              "  'went',\n",
              "  'back',\n",
              "  'to',\n",
              "  'the',\n",
              "  'hallway',\n",
              "  '.',\n",
              "  'Sandra',\n",
              "  'moved',\n",
              "  'to',\n",
              "  'the',\n",
              "  'office',\n",
              "  '.'],\n",
              " ['Is', 'Sandra', 'in', 'the', 'office', '?'],\n",
              " 'yes')"
            ]
          },
          "metadata": {
            "tags": []
          },
          "execution_count": 4
        }
      ]
    },
    {
      "cell_type": "code",
      "metadata": {
        "id": "PTpifcm1Dta9",
        "colab_type": "code",
        "outputId": "6fdf547f-c272-4fe1-a678-74049937b56d",
        "colab": {
          "base_uri": "https://localhost:8080/",
          "height": 34
        }
      },
      "source": [
        "' '.join(train_data[10][0])"
      ],
      "execution_count": 0,
      "outputs": [
        {
          "output_type": "execute_result",
          "data": {
            "text/plain": [
              "'Sandra went back to the hallway . Sandra moved to the office .'"
            ]
          },
          "metadata": {
            "tags": []
          },
          "execution_count": 5
        }
      ]
    },
    {
      "cell_type": "code",
      "metadata": {
        "id": "4KuoWUYVD2Ne",
        "colab_type": "code",
        "colab": {}
      },
      "source": [
        "vocab = set()\n",
        "for story, question, answer in train_data:\n",
        "    vocab = vocab.union(set(story)) #Set returns unique words in the sentence\n",
        "                                    #Union returns the unique common elements from a two sets\n",
        "    vocab = vocab.union(set(question))"
      ],
      "execution_count": 0,
      "outputs": []
    },
    {
      "cell_type": "code",
      "metadata": {
        "id": "eO5moQJWFWVh",
        "colab_type": "code",
        "colab": {}
      },
      "source": [
        "vocab.add('no')\n",
        "vocab.add('yes')"
      ],
      "execution_count": 0,
      "outputs": []
    },
    {
      "cell_type": "code",
      "metadata": {
        "id": "2LwJQtm-FY7M",
        "colab_type": "code",
        "colab": {}
      },
      "source": [
        "all_data = test_data + train_data"
      ],
      "execution_count": 0,
      "outputs": []
    },
    {
      "cell_type": "code",
      "metadata": {
        "id": "juWxOdkoFn8R",
        "colab_type": "code",
        "colab": {}
      },
      "source": [
        "all_story_lens = [len(data[0]) for data in all_data]\n",
        "max_story_len = (max(all_story_lens))\n",
        "max_question_len = max([len(data[1]) for data in all_data])"
      ],
      "execution_count": 0,
      "outputs": []
    },
    {
      "cell_type": "code",
      "metadata": {
        "id": "7EDjk1BTF-BF",
        "colab_type": "code",
        "outputId": "1a78ba39-ab6e-43f3-a450-06ed2e7db005",
        "colab": {
          "base_uri": "https://localhost:8080/",
          "height": 34
        }
      },
      "source": [
        "from keras.preprocessing.sequence import pad_sequences\n",
        "from keras.preprocessing.text import Tokenizer"
      ],
      "execution_count": 0,
      "outputs": [
        {
          "output_type": "stream",
          "text": [
            "Using TensorFlow backend.\n"
          ],
          "name": "stderr"
        }
      ]
    },
    {
      "cell_type": "code",
      "metadata": {
        "id": "NP0zT2dZGDye",
        "colab_type": "code",
        "colab": {}
      },
      "source": [
        "tokenizer = Tokenizer(filters = [])\n",
        "tokenizer.fit_on_texts(vocab)"
      ],
      "execution_count": 0,
      "outputs": []
    },
    {
      "cell_type": "code",
      "metadata": {
        "id": "_ATmfghhGGQD",
        "colab_type": "code",
        "outputId": "ac38280f-e7b6-4443-f797-faab704cee9c",
        "colab": {
          "base_uri": "https://localhost:8080/",
          "height": 660
        }
      },
      "source": [
        "tokenizer.word_index"
      ],
      "execution_count": 0,
      "outputs": [
        {
          "output_type": "execute_result",
          "data": {
            "text/plain": [
              "{'.': 14,\n",
              " '?': 36,\n",
              " 'apple': 1,\n",
              " 'back': 35,\n",
              " 'bathroom': 34,\n",
              " 'bedroom': 10,\n",
              " 'daniel': 37,\n",
              " 'discarded': 2,\n",
              " 'down': 9,\n",
              " 'dropped': 18,\n",
              " 'football': 17,\n",
              " 'garden': 13,\n",
              " 'got': 33,\n",
              " 'grabbed': 23,\n",
              " 'hallway': 3,\n",
              " 'in': 27,\n",
              " 'is': 28,\n",
              " 'john': 15,\n",
              " 'journeyed': 16,\n",
              " 'kitchen': 26,\n",
              " 'left': 11,\n",
              " 'mary': 7,\n",
              " 'milk': 29,\n",
              " 'moved': 8,\n",
              " 'no': 20,\n",
              " 'office': 31,\n",
              " 'picked': 19,\n",
              " 'put': 5,\n",
              " 'sandra': 30,\n",
              " 'the': 12,\n",
              " 'there': 4,\n",
              " 'to': 22,\n",
              " 'took': 24,\n",
              " 'travelled': 21,\n",
              " 'up': 32,\n",
              " 'went': 25,\n",
              " 'yes': 6}"
            ]
          },
          "metadata": {
            "tags": []
          },
          "execution_count": 12
        }
      ]
    },
    {
      "cell_type": "code",
      "metadata": {
        "id": "GBF9x-ddGIbx",
        "colab_type": "code",
        "colab": {}
      },
      "source": [
        "train_story_text = []\n",
        "train_question_text = []\n",
        "train_answers = []"
      ],
      "execution_count": 0,
      "outputs": []
    },
    {
      "cell_type": "code",
      "metadata": {
        "id": "pkEM-xXJGMRL",
        "colab_type": "code",
        "colab": {}
      },
      "source": [
        "for story,question,answer in train_data:\n",
        "    train_story_text.append(story)\n",
        "    train_question_text.append(question) \n",
        "    train_answers.append(answer)"
      ],
      "execution_count": 0,
      "outputs": []
    },
    {
      "cell_type": "code",
      "metadata": {
        "id": "s9oVaY2rGORf",
        "colab_type": "code",
        "colab": {}
      },
      "source": [
        "train_story_seq = tokenizer.texts_to_sequences(train_story_text)"
      ],
      "execution_count": 0,
      "outputs": []
    },
    {
      "cell_type": "code",
      "metadata": {
        "id": "BxNybysfGRSr",
        "colab_type": "code",
        "colab": {}
      },
      "source": [
        "def vectorize_stories(data,word_index = tokenizer.word_index, max_story_len = max_story_len, max_question_len = max_question_len):\n",
        "    #vectorized stories:\n",
        "    X = []\n",
        "    #vectorized questions:\n",
        "    Xq = []\n",
        "    #vectorized answers:\n",
        "    Y = []\n",
        "    \n",
        "    for story, question, answer in data:\n",
        "        #Getting indexes for each word in the story\n",
        "        x = [word_index[word.lower()] for word in story]\n",
        "        #Getting indexes for each word in the story\n",
        "        xq = [word_index[word.lower()] for word in question]\n",
        "        #For the answers\n",
        "        y = np.zeros(len(word_index) + 1) #Index 0 Reserved when padding the sequences\n",
        "        y[word_index[answer]] = 1\n",
        "        \n",
        "        X.append(x)\n",
        "        Xq.append(xq)\n",
        "        Y.append(y)\n",
        "        \n",
        "    #Now we have to pad these sequences:\n",
        "    return(pad_sequences(X,maxlen=max_story_len), pad_sequences(Xq, maxlen=max_question_len), np.array(Y))"
      ],
      "execution_count": 0,
      "outputs": []
    },
    {
      "cell_type": "code",
      "metadata": {
        "id": "2Y-ulwXNGUqo",
        "colab_type": "code",
        "colab": {}
      },
      "source": [
        "inputs_train, questions_train, answers_train = vectorize_stories(train_data)"
      ],
      "execution_count": 0,
      "outputs": []
    },
    {
      "cell_type": "code",
      "metadata": {
        "id": "0X3BFotRGXY3",
        "colab_type": "code",
        "colab": {}
      },
      "source": [
        "inputs_test, questions_test, answers_test = vectorize_stories(test_data)"
      ],
      "execution_count": 0,
      "outputs": []
    },
    {
      "cell_type": "code",
      "metadata": {
        "id": "n8w7pAP0Gcv_",
        "colab_type": "code",
        "outputId": "c3e8ea02-8b1e-49ce-e9f6-14e716a06160",
        "colab": {
          "base_uri": "https://localhost:8080/",
          "height": 225
        }
      },
      "source": [
        "train_story_text[0]"
      ],
      "execution_count": 0,
      "outputs": [
        {
          "output_type": "execute_result",
          "data": {
            "text/plain": [
              "['Mary',\n",
              " 'moved',\n",
              " 'to',\n",
              " 'the',\n",
              " 'bathroom',\n",
              " '.',\n",
              " 'Sandra',\n",
              " 'journeyed',\n",
              " 'to',\n",
              " 'the',\n",
              " 'bedroom',\n",
              " '.']"
            ]
          },
          "metadata": {
            "tags": []
          },
          "execution_count": 20
        }
      ]
    },
    {
      "cell_type": "code",
      "metadata": {
        "id": "zIwZYZLuGmUU",
        "colab_type": "code",
        "colab": {}
      },
      "source": [
        "from keras.models import Sequential, Model\n",
        "from keras.layers.embeddings import Embedding\n",
        "from keras.layers import Input, Activation, Dense, Permute, Dropout, add, dot, concatenate, LSTM"
      ],
      "execution_count": 0,
      "outputs": []
    },
    {
      "cell_type": "code",
      "metadata": {
        "id": "FMwusSrGGrZH",
        "colab_type": "code",
        "outputId": "4bcb4a13-441e-45e6-d42a-66233f69258d",
        "colab": {
          "base_uri": "https://localhost:8080/",
          "height": 124
        }
      },
      "source": [
        "input_sequence = Input((max_story_len,)) #As we dont know batch size yet\n",
        "question = Input((max_question_len,))"
      ],
      "execution_count": 0,
      "outputs": [
        {
          "output_type": "stream",
          "text": [
            "WARNING: Logging before flag parsing goes to stderr.\n",
            "W0719 07:20:52.323915 140499023890304 deprecation_wrapper.py:119] From /usr/local/lib/python3.6/dist-packages/keras/backend/tensorflow_backend.py:74: The name tf.get_default_graph is deprecated. Please use tf.compat.v1.get_default_graph instead.\n",
            "\n",
            "W0719 07:20:52.370224 140499023890304 deprecation_wrapper.py:119] From /usr/local/lib/python3.6/dist-packages/keras/backend/tensorflow_backend.py:517: The name tf.placeholder is deprecated. Please use tf.compat.v1.placeholder instead.\n",
            "\n"
          ],
          "name": "stderr"
        }
      ]
    },
    {
      "cell_type": "code",
      "metadata": {
        "id": "hN4F-fl_Gt-s",
        "colab_type": "code",
        "outputId": "59dd0525-452a-421d-bbba-efea3dd16b1d",
        "colab": {
          "base_uri": "https://localhost:8080/",
          "height": 159
        }
      },
      "source": [
        "vocab_len = len(vocab) + 1\n",
        "\n",
        "input_encoder_m = Sequential()\n",
        "input_encoder_m.add(Embedding(input_dim=vocab_len,output_dim = 64)) #From paper\n",
        "input_encoder_m.add(Dropout(0.3))\n",
        "\n",
        "input_encoder_c = Sequential()\n",
        "input_encoder_c.add(Embedding(input_dim=vocab_len,output_dim = max_question_len)) #From paper\n",
        "input_encoder_c.add(Dropout(0.3))\n",
        "\n",
        "question_encoder = Sequential()\n",
        "question_encoder.add(Embedding(input_dim=vocab_len,output_dim = 64,input_length=max_question_len)) #From paper\n",
        "question_encoder.add(Dropout(0.3))\n",
        "\n",
        "input_encoded_m = input_encoder_m(input_sequence)\n",
        "input_encoded_c = input_encoder_c(input_sequence)\n",
        "question_encoded = question_encoder(question)\n",
        "\n",
        "match = dot([input_encoded_m,question_encoded], axes = (2,2))\n",
        "match = Activation('softmax')(match)\n",
        "\n",
        "response = add([match,input_encoded_c])\n",
        "response = Permute((2,1))(response)\n",
        "\n",
        "answer = concatenate([response, question_encoded])"
      ],
      "execution_count": 0,
      "outputs": [
        {
          "output_type": "stream",
          "text": [
            "W0719 07:23:07.049050 140499023890304 deprecation_wrapper.py:119] From /usr/local/lib/python3.6/dist-packages/keras/backend/tensorflow_backend.py:4138: The name tf.random_uniform is deprecated. Please use tf.random.uniform instead.\n",
            "\n",
            "W0719 07:23:07.082239 140499023890304 deprecation_wrapper.py:119] From /usr/local/lib/python3.6/dist-packages/keras/backend/tensorflow_backend.py:133: The name tf.placeholder_with_default is deprecated. Please use tf.compat.v1.placeholder_with_default instead.\n",
            "\n",
            "W0719 07:23:07.097162 140499023890304 deprecation.py:506] From /usr/local/lib/python3.6/dist-packages/keras/backend/tensorflow_backend.py:3445: calling dropout (from tensorflow.python.ops.nn_ops) with keep_prob is deprecated and will be removed in a future version.\n",
            "Instructions for updating:\n",
            "Please use `rate` instead of `keep_prob`. Rate should be set to `rate = 1 - keep_prob`.\n"
          ],
          "name": "stderr"
        }
      ]
    },
    {
      "cell_type": "code",
      "metadata": {
        "id": "Rb767Y-0G0Up",
        "colab_type": "code",
        "outputId": "dbfde9dd-a45b-402d-b812-2ba58ad8af29",
        "colab": {
          "base_uri": "https://localhost:8080/",
          "height": 34
        }
      },
      "source": [
        "answer"
      ],
      "execution_count": 0,
      "outputs": [
        {
          "output_type": "execute_result",
          "data": {
            "text/plain": [
              "<tf.Tensor 'concatenate_1/concat:0' shape=(?, 6, 220) dtype=float32>"
            ]
          },
          "metadata": {
            "tags": []
          },
          "execution_count": 26
        }
      ]
    },
    {
      "cell_type": "code",
      "metadata": {
        "id": "QP9_PZ3gHZ2B",
        "colab_type": "code",
        "outputId": "05ac11d8-4fb0-49b8-e5cb-57a865d6c5d5",
        "colab": {
          "base_uri": "https://localhost:8080/",
          "height": 766
        }
      },
      "source": [
        "answer = LSTM(32)(answer)\n",
        "answer = Dropout(0.5)(answer)\n",
        "answer = Dense(vocab_len)(answer)\n",
        "answer = Activation('softmax')(answer)\n",
        "model = Model([input_sequence,question], answer)\n",
        "model.compile(optimizer='rmsprop', loss = 'categorical_crossentropy', metrics = ['accuracy'])\n",
        "model.summary()"
      ],
      "execution_count": 0,
      "outputs": [
        {
          "output_type": "stream",
          "text": [
            "W0719 07:24:56.935152 140499023890304 deprecation_wrapper.py:119] From /usr/local/lib/python3.6/dist-packages/keras/optimizers.py:790: The name tf.train.Optimizer is deprecated. Please use tf.compat.v1.train.Optimizer instead.\n",
            "\n",
            "W0719 07:24:56.957403 140499023890304 deprecation_wrapper.py:119] From /usr/local/lib/python3.6/dist-packages/keras/backend/tensorflow_backend.py:3295: The name tf.log is deprecated. Please use tf.math.log instead.\n",
            "\n"
          ],
          "name": "stderr"
        },
        {
          "output_type": "stream",
          "text": [
            "__________________________________________________________________________________________________\n",
            "Layer (type)                    Output Shape         Param #     Connected to                     \n",
            "==================================================================================================\n",
            "input_1 (InputLayer)            (None, 156)          0                                            \n",
            "__________________________________________________________________________________________________\n",
            "input_2 (InputLayer)            (None, 6)            0                                            \n",
            "__________________________________________________________________________________________________\n",
            "sequential_2 (Sequential)       multiple             2432        input_1[0][0]                    \n",
            "__________________________________________________________________________________________________\n",
            "sequential_4 (Sequential)       (None, 6, 64)        2432        input_2[0][0]                    \n",
            "__________________________________________________________________________________________________\n",
            "dot_1 (Dot)                     (None, 156, 6)       0           sequential_2[1][0]               \n",
            "                                                                 sequential_4[1][0]               \n",
            "__________________________________________________________________________________________________\n",
            "activation_1 (Activation)       (None, 156, 6)       0           dot_1[0][0]                      \n",
            "__________________________________________________________________________________________________\n",
            "sequential_3 (Sequential)       multiple             228         input_1[0][0]                    \n",
            "__________________________________________________________________________________________________\n",
            "add_1 (Add)                     (None, 156, 6)       0           activation_1[0][0]               \n",
            "                                                                 sequential_3[1][0]               \n",
            "__________________________________________________________________________________________________\n",
            "permute_1 (Permute)             (None, 6, 156)       0           add_1[0][0]                      \n",
            "__________________________________________________________________________________________________\n",
            "concatenate_1 (Concatenate)     (None, 6, 220)       0           permute_1[0][0]                  \n",
            "                                                                 sequential_4[1][0]               \n",
            "__________________________________________________________________________________________________\n",
            "lstm_1 (LSTM)                   (None, 32)           32384       concatenate_1[0][0]              \n",
            "__________________________________________________________________________________________________\n",
            "dropout_4 (Dropout)             (None, 32)           0           lstm_1[0][0]                     \n",
            "__________________________________________________________________________________________________\n",
            "dense_1 (Dense)                 (None, 38)           1254        dropout_4[0][0]                  \n",
            "__________________________________________________________________________________________________\n",
            "activation_2 (Activation)       (None, 38)           0           dense_1[0][0]                    \n",
            "==================================================================================================\n",
            "Total params: 38,730\n",
            "Trainable params: 38,730\n",
            "Non-trainable params: 0\n",
            "__________________________________________________________________________________________________\n"
          ],
          "name": "stdout"
        }
      ]
    },
    {
      "cell_type": "code",
      "metadata": {
        "id": "ZKcIpr4aHpoW",
        "colab_type": "code",
        "outputId": "f1683096-a251-427f-e7bd-5aa87f5a5e5d",
        "colab": {
          "base_uri": "https://localhost:8080/",
          "height": 382
        }
      },
      "source": [
        "history = model.fit([inputs_train,questions_train],answers_train, batch_size = 32, epochs = 10, validation_data = ([inputs_test,questions_test],answers_test))"
      ],
      "execution_count": 0,
      "outputs": [
        {
          "output_type": "stream",
          "text": [
            "Train on 10000 samples, validate on 1000 samples\n",
            "Epoch 1/10\n",
            "10000/10000 [==============================] - 6s 636us/step - loss: 0.6937 - acc: 0.5093 - val_loss: 0.6938 - val_acc: 0.4970\n",
            "Epoch 2/10\n",
            "10000/10000 [==============================] - 6s 634us/step - loss: 0.6950 - acc: 0.5029 - val_loss: 0.6976 - val_acc: 0.4970\n",
            "Epoch 3/10\n",
            "10000/10000 [==============================] - 6s 631us/step - loss: 0.6949 - acc: 0.5043 - val_loss: 0.6936 - val_acc: 0.4970\n",
            "Epoch 4/10\n",
            "10000/10000 [==============================] - 6s 626us/step - loss: 0.6947 - acc: 0.4986 - val_loss: 0.6983 - val_acc: 0.4970\n",
            "Epoch 5/10\n",
            "10000/10000 [==============================] - 6s 623us/step - loss: 0.6950 - acc: 0.4892 - val_loss: 0.6943 - val_acc: 0.4970\n",
            "Epoch 6/10\n",
            "10000/10000 [==============================] - 6s 634us/step - loss: 0.6949 - acc: 0.4933 - val_loss: 0.6941 - val_acc: 0.4970\n",
            "Epoch 7/10\n",
            "10000/10000 [==============================] - 6s 631us/step - loss: 0.6939 - acc: 0.5030 - val_loss: 0.6932 - val_acc: 0.4970\n",
            "Epoch 8/10\n",
            "10000/10000 [==============================] - 6s 630us/step - loss: 0.6897 - acc: 0.5357 - val_loss: 0.6829 - val_acc: 0.5610\n",
            "Epoch 9/10\n",
            "10000/10000 [==============================] - 6s 626us/step - loss: 0.6758 - acc: 0.5662 - val_loss: 0.6538 - val_acc: 0.6180\n",
            "Epoch 10/10\n",
            "10000/10000 [==============================] - 6s 620us/step - loss: 0.6532 - acc: 0.6036 - val_loss: 0.6245 - val_acc: 0.6230\n"
          ],
          "name": "stdout"
        }
      ]
    },
    {
      "cell_type": "code",
      "metadata": {
        "id": "wBbgujmdHyoS",
        "colab_type": "code",
        "colab": {}
      },
      "source": [
        "filename = 'Z_chatbot_100_epochs.h5'\n",
        "model.save(filename)\n",
        "model.load_weights('Z_chatbot_100_epochs.h5')"
      ],
      "execution_count": 0,
      "outputs": []
    },
    {
      "cell_type": "code",
      "metadata": {
        "id": "7f60gu_LIQU7",
        "colab_type": "code",
        "colab": {}
      },
      "source": [
        "pred_results = model.predict(([inputs_test,questions_test]))"
      ],
      "execution_count": 0,
      "outputs": []
    },
    {
      "cell_type": "code",
      "metadata": {
        "id": "Fns5HVnCIdpk",
        "colab_type": "code",
        "outputId": "f2c4fb48-c44b-4ded-ea0a-d51d21188a33",
        "colab": {
          "base_uri": "https://localhost:8080/",
          "height": 260
        }
      },
      "source": [
        "test_data[0]"
      ],
      "execution_count": 0,
      "outputs": [
        {
          "output_type": "execute_result",
          "data": {
            "text/plain": [
              "(['Mary',\n",
              "  'got',\n",
              "  'the',\n",
              "  'milk',\n",
              "  'there',\n",
              "  '.',\n",
              "  'John',\n",
              "  'moved',\n",
              "  'to',\n",
              "  'the',\n",
              "  'bedroom',\n",
              "  '.'],\n",
              " ['Is', 'John', 'in', 'the', 'kitchen', '?'],\n",
              " 'no')"
            ]
          },
          "metadata": {
            "tags": []
          },
          "execution_count": 33
        }
      ]
    },
    {
      "cell_type": "code",
      "metadata": {
        "id": "_s32XZcwIhON",
        "colab_type": "code",
        "outputId": "9f3368f2-d523-4b63-c169-14fb54a5a05b",
        "colab": {
          "base_uri": "https://localhost:8080/",
          "height": 191
        }
      },
      "source": [
        "pred_results[0]"
      ],
      "execution_count": 0,
      "outputs": [
        {
          "output_type": "execute_result",
          "data": {
            "text/plain": [
              "array([1.2206699e-12, 9.7833222e-13, 9.4700842e-13, 1.3117576e-12,\n",
              "       9.0123026e-13, 9.8853618e-13, 4.0486011e-01, 9.8127181e-13,\n",
              "       9.0073879e-13, 8.1931272e-13, 1.1237084e-12, 1.1067217e-12,\n",
              "       1.0089085e-12, 1.1088811e-12, 9.8250791e-13, 9.6046782e-13,\n",
              "       9.4744752e-13, 1.3115499e-12, 9.6985083e-13, 1.4125007e-12,\n",
              "       5.9513986e-01, 1.0346540e-12, 1.1478644e-12, 9.7233647e-13,\n",
              "       9.5466170e-13, 1.2818720e-12, 1.1742337e-12, 8.2611202e-13,\n",
              "       1.1756837e-12, 1.0138101e-12, 1.1078347e-12, 1.0953019e-12,\n",
              "       1.1534081e-12, 7.9476578e-13, 1.2792682e-12, 1.2058115e-12,\n",
              "       1.0310764e-12, 8.3276756e-13], dtype=float32)"
            ]
          },
          "metadata": {
            "tags": []
          },
          "execution_count": 34
        }
      ]
    },
    {
      "cell_type": "code",
      "metadata": {
        "id": "8AGNIRCOIl7J",
        "colab_type": "code",
        "colab": {}
      },
      "source": [
        "val_max = np.argmax(pred_results[0])"
      ],
      "execution_count": 0,
      "outputs": []
    },
    {
      "cell_type": "code",
      "metadata": {
        "id": "F6acx67HIo5b",
        "colab_type": "code",
        "outputId": "cfc2361c-79a7-458d-81b7-801d5f57cc4d",
        "colab": {
          "base_uri": "https://localhost:8080/",
          "height": 34
        }
      },
      "source": [
        "for key,val in tokenizer.word_index.items():\n",
        "    if val == val_max:\n",
        "        k = key\n",
        "print(k)"
      ],
      "execution_count": 0,
      "outputs": [
        {
          "output_type": "stream",
          "text": [
            "no\n"
          ],
          "name": "stdout"
        }
      ]
    },
    {
      "cell_type": "code",
      "metadata": {
        "id": "4g4uX6vfIr98",
        "colab_type": "code",
        "outputId": "e72f13d1-5d35-42bc-f883-b7728f12e05e",
        "colab": {
          "base_uri": "https://localhost:8080/",
          "height": 34
        }
      },
      "source": [
        "pred_results[0][val_max]"
      ],
      "execution_count": 0,
      "outputs": [
        {
          "output_type": "execute_result",
          "data": {
            "text/plain": [
              "0.59513986"
            ]
          },
          "metadata": {
            "tags": []
          },
          "execution_count": 37
        }
      ]
    },
    {
      "cell_type": "code",
      "metadata": {
        "id": "4mDiDcYBIu-t",
        "colab_type": "code",
        "colab": {}
      },
      "source": [
        "my_story = 'John travelled to office'"
      ],
      "execution_count": 0,
      "outputs": []
    },
    {
      "cell_type": "code",
      "metadata": {
        "id": "JsUsALL-JYg7",
        "colab_type": "code",
        "outputId": "95e9d746-0990-4c70-d4ed-c0379938c22e",
        "colab": {
          "base_uri": "https://localhost:8080/",
          "height": 34
        }
      },
      "source": [
        "my_story.split()"
      ],
      "execution_count": 0,
      "outputs": [
        {
          "output_type": "execute_result",
          "data": {
            "text/plain": [
              "['John', 'travelled', 'to', 'office']"
            ]
          },
          "metadata": {
            "tags": []
          },
          "execution_count": 48
        }
      ]
    },
    {
      "cell_type": "code",
      "metadata": {
        "id": "S-jE1KYfJa1P",
        "colab_type": "code",
        "colab": {}
      },
      "source": [
        "my_question = 'John travelled to office ?'"
      ],
      "execution_count": 0,
      "outputs": []
    },
    {
      "cell_type": "code",
      "metadata": {
        "id": "a_sxU654JkO3",
        "colab_type": "code",
        "outputId": "b9065a05-bcff-4b0a-ff33-894b46704d68",
        "colab": {
          "base_uri": "https://localhost:8080/",
          "height": 34
        }
      },
      "source": [
        "my_question.split()"
      ],
      "execution_count": 0,
      "outputs": [
        {
          "output_type": "execute_result",
          "data": {
            "text/plain": [
              "['John', 'travelled', 'to', 'office', '?']"
            ]
          },
          "metadata": {
            "tags": []
          },
          "execution_count": 50
        }
      ]
    },
    {
      "cell_type": "code",
      "metadata": {
        "id": "tVHwUbXsJnhI",
        "colab_type": "code",
        "colab": {}
      },
      "source": [
        "my_data = [(my_story.split(), my_question.split(),'yes')]"
      ],
      "execution_count": 0,
      "outputs": []
    },
    {
      "cell_type": "code",
      "metadata": {
        "id": "Xd3MHJgTJqh0",
        "colab_type": "code",
        "colab": {}
      },
      "source": [
        "my_story, my_ques, my_ans = vectorize_stories(my_data)"
      ],
      "execution_count": 0,
      "outputs": []
    },
    {
      "cell_type": "code",
      "metadata": {
        "id": "Lxh0LydwJtPP",
        "colab_type": "code",
        "colab": {}
      },
      "source": [
        "pred_results = model.predict(([my_story,my_ques]))"
      ],
      "execution_count": 0,
      "outputs": []
    },
    {
      "cell_type": "code",
      "metadata": {
        "id": "t-KICRCFKPWh",
        "colab_type": "code",
        "colab": {}
      },
      "source": [
        "val_max = np.argmax(pred_results[0])"
      ],
      "execution_count": 0,
      "outputs": []
    },
    {
      "cell_type": "code",
      "metadata": {
        "id": "RFl6KWLCKRxT",
        "colab_type": "code",
        "outputId": "aa2b04c1-d2aa-4f72-fcc7-3a5909c22b47",
        "colab": {
          "base_uri": "https://localhost:8080/",
          "height": 34
        }
      },
      "source": [
        "for key,val in tokenizer.word_index.items():\n",
        "    if val == val_max:\n",
        "        k = key\n",
        "print(k)"
      ],
      "execution_count": 0,
      "outputs": [
        {
          "output_type": "stream",
          "text": [
            "no\n"
          ],
          "name": "stdout"
        }
      ]
    },
    {
      "cell_type": "code",
      "metadata": {
        "id": "d6lIYSrvKT9H",
        "colab_type": "code",
        "outputId": "4cdc400d-b799-4ee4-f376-a6dbc4dd52db",
        "colab": {
          "base_uri": "https://localhost:8080/",
          "height": 34
        }
      },
      "source": [
        "pred_results[0][val_max]"
      ],
      "execution_count": 0,
      "outputs": [
        {
          "output_type": "execute_result",
          "data": {
            "text/plain": [
              "0.61280787"
            ]
          },
          "metadata": {
            "tags": []
          },
          "execution_count": 56
        }
      ]
    }
  ]
}